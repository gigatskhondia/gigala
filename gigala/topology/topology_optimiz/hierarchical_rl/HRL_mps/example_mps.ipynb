{
 "cells": [
  {
   "cell_type": "code",
   "execution_count": 1,
   "id": "62fb8270",
   "metadata": {},
   "outputs": [],
   "source": [
    "# https://github.com/meyer-nils/torch-fem/blob/main/src/torchfem/elements.py"
   ]
  },
  {
   "cell_type": "code",
   "execution_count": 2,
   "id": "94f35674",
   "metadata": {},
   "outputs": [],
   "source": [
    "# The 'classic' 60x20 2d mbb beam, as per Ole Sigmund's 99 line code.\n",
    "config = {\n",
    "    \"FILT_RAD\": 1.5,\n",
    "    \"FXTR_NODE_X\": range(1, 6),\n",
    "    \"FXTR_NODE_Y\": 36,\n",
    "    \"LOAD_NODE_Y\": 1,\n",
    "    \"LOAD_VALU_Y\": -1,\n",
    "    \"NUM_ELEM_X\": 5,\n",
    "    \"NUM_ELEM_Y\": 5,\n",
    "    \"NUM_ITER\": 94,\n",
    "    \"P_FAC\": 3.0,\n",
    "    \"VOL_FRAC\": 0.5,\n",
    "}"
   ]
  },
  {
   "cell_type": "code",
   "execution_count": 3,
   "id": "11e23b4f",
   "metadata": {},
   "outputs": [
    {
     "data": {
      "image/png": "[encoded data removed]",
      "text/plain": [
       "<Figure size 800x600 with 1 Axes>"
      ]
     },
     "metadata": {},
     "output_type": "display_data"
    }
   ],
   "source": [
    "import torch\n",
    "\n",
    "torch.set_default_dtype(torch.double)\n",
    "\n",
    "from torchfem.planar import Planar\n",
    "from torchfem.materials import IsotropicElasticityPlaneStress\n",
    "\n",
    "# Material model (plane stress)\n",
    "material = IsotropicElasticityPlaneStress(E=100.0, nu=0.3)\n",
    "\n",
    "Nx = config[\"NUM_ELEM_X\"]\n",
    "Ny = config[\"NUM_ELEM_Y\"]\n",
    "\n",
    "# Create nodes\n",
    "n1 = torch.linspace(0.0, Nx, Nx + 1)\n",
    "n2 = torch.linspace(Ny, 0.0, Ny + 1)\n",
    "n1, n2 = torch.stack(torch.meshgrid(n1, n2, indexing=\"ij\"))\n",
    "nodes = torch.stack([n1.ravel(), n2.ravel()], dim=1)\n",
    "\n",
    "# Create elements connecting nodes\n",
    "elements = []\n",
    "for j in range(Ny):\n",
    "    for i in range(Nx):\n",
    "        n0 = j + i * (Ny + 1)\n",
    "        elements.append([n0, n0 + 1, n0 + Ny + 2, n0 + Ny + 1])\n",
    "elements = torch.tensor(elements)\n",
    "\n",
    "model = Planar(nodes, elements, material)\n",
    "\n",
    "# Load at top\n",
    "model.forces[torch.tensor(config[\"LOAD_NODE_Y\"]) - 1, 1] = config[\"LOAD_VALU_Y\"]\n",
    "\n",
    "# Constrained displacement at left end\n",
    "model.constraints[torch.tensor(config[\"FXTR_NODE_X\"]) - 1, 0] = True\n",
    "model.constraints[torch.tensor(config[\"FXTR_NODE_Y\"]) - 1, 1] = True\n",
    "\n",
    "\n",
    "# Plot the domain\n",
    "model.plot()"
   ]
  },
  {
   "cell_type": "code",
   "execution_count": 4,
   "id": "fc7b4c6f",
   "metadata": {},
   "outputs": [],
   "source": [
    "# !pip3 install pyamg"
   ]
  },
  {
   "cell_type": "code",
   "execution_count": 5,
   "id": "671694cf",
   "metadata": {},
   "outputs": [],
   "source": [
    "# Initial, minimum, and maximum values of design variables\n",
    "rho_0 = config[\"VOL_FRAC\"] * torch.ones(len(elements), requires_grad=True)\n",
    "rho_min = 0.01 * torch.ones_like(rho_0)\n",
    "rho_max = torch.ones_like(rho_0)\n",
    "\n",
    "# Volume fraction\n",
    "V_0 = config[\"VOL_FRAC\"] * Nx * Ny\n",
    "\n",
    "# Analytical gradient of the stiffness matrix\n",
    "k0 = torch.einsum(\"i,ijk->ijk\", 1.0 / model.thickness, model.k0())\n",
    "\n",
    "# Move limit for optimality condition algortihm\n",
    "move = 0.2\n",
    "\n",
    "# Precompute filter weights\n",
    "if config[\"FILT_RAD\"] > 0.0:\n",
    "    ecenters = torch.stack([torch.mean(nodes[e], dim=0) for e in elements])\n",
    "    dist = torch.cdist(ecenters, ecenters)\n",
    "    H = config[\"FILT_RAD\"] - dist\n",
    "    H[dist > config[\"FILT_RAD\"]] = 0.0"
   ]
  },
  {
   "cell_type": "code",
   "execution_count": 6,
   "id": "59073b92",
   "metadata": {},
   "outputs": [],
   "source": [
    "p = config[\"P_FAC\"]\n",
    "\n",
    "TORCH_SENS = False"
   ]
  },
  {
   "cell_type": "code",
   "execution_count": 7,
   "id": "7a32294f",
   "metadata": {},
   "outputs": [],
   "source": [
    "model.thickness = rho_0 ** p\n",
    "\n",
    "    # Compute solution\n",
    "u_k, f_k, _, _, _ = model.solve()"
   ]
  },
  {
   "cell_type": "code",
   "execution_count": 8,
   "id": "24fc7146",
   "metadata": {},
   "outputs": [
    {
     "data": {
      "text/plain": [
       "(tensor([[ 0.0000, -1.0805],\n",
       "         [ 0.0000, -0.9530],\n",
       "         [ 0.0000, -0.9017],\n",
       "         [ 0.0000, -0.8882],\n",
       "         [ 0.0000, -0.9015],\n",
       "         [ 0.2132, -0.9176],\n",
       "         [-0.1148, -0.8396],\n",
       "         [-0.0198, -0.8672],\n",
       "         [ 0.0011, -0.8515],\n",
       "         [ 0.0251, -0.8352],\n",
       "         [ 0.0886, -0.8054],\n",
       "         [ 0.2045, -0.7803],\n",
       "         [-0.1747, -0.7146],\n",
       "         [-0.0693, -0.7249],\n",
       "         [-0.0066, -0.7315],\n",
       "         [ 0.0512, -0.7229],\n",
       "         [ 0.1397, -0.7075],\n",
       "         [ 0.2492, -0.6913],\n",
       "         [-0.2074, -0.5808],\n",
       "         [-0.0987, -0.5865],\n",
       "         [-0.0195, -0.5865],\n",
       "         [ 0.0575, -0.5827],\n",
       "         [ 0.1671, -0.5810],\n",
       "         [ 0.3102, -0.5676],\n",
       "         [-0.2193, -0.4548],\n",
       "         [-0.1120, -0.4531],\n",
       "         [-0.0255, -0.4425],\n",
       "         [ 0.0563, -0.4207],\n",
       "         [ 0.1688, -0.3996],\n",
       "         [ 0.3795, -0.4030],\n",
       "         [-0.2207, -0.3419],\n",
       "         [-0.1142, -0.3405],\n",
       "         [-0.0219, -0.3265],\n",
       "         [ 0.0670, -0.2818],\n",
       "         [ 0.1828, -0.1840],\n",
       "         [ 0.4464,  0.0000]], grad_fn=<SelectBackward0>),\n",
       " tensor([[ 9.9039e-01, -1.0000e+00],\n",
       "         [ 4.4401e-01, -1.0094e-11],\n",
       "         [ 3.5457e-02,  2.6222e-12],\n",
       "         [-3.6451e-01, -7.3615e-12],\n",
       "         [-1.1053e+00,  1.4037e-11],\n",
       "         [-3.3158e-12,  4.3945e-11],\n",
       "         [ 1.0899e-12,  3.9823e-12],\n",
       "         [-7.6790e-12, -2.1022e-11],\n",
       "         [ 1.3407e-11, -1.6382e-11],\n",
       "         [ 6.4063e-11,  1.8680e-11],\n",
       "         [ 3.7451e-11, -9.5099e-11],\n",
       "         [ 1.3987e-11,  2.1457e-11],\n",
       "         [ 7.8298e-13, -2.4832e-11],\n",
       "         [-4.5452e-11, -1.0489e-10],\n",
       "         [-1.2688e-10, -5.6931e-11],\n",
       "         [-4.8595e-11,  1.6383e-11],\n",
       "         [-1.6774e-11, -4.6634e-11],\n",
       "         [ 2.3283e-11,  2.1050e-11],\n",
       "         [-5.5182e-11, -5.2248e-12],\n",
       "         [-6.5125e-11,  1.7855e-10],\n",
       "         [-9.8238e-11,  6.6339e-11],\n",
       "         [-1.4969e-10,  1.8504e-11],\n",
       "         [-5.8150e-11,  1.6817e-10],\n",
       "         [ 6.6286e-13,  1.6988e-11],\n",
       "         [ 4.7074e-11,  2.2666e-11],\n",
       "         [-1.2383e-11, -1.2333e-12],\n",
       "         [ 2.1080e-11,  4.8781e-11],\n",
       "         [ 4.5618e-11, -1.5896e-11],\n",
       "         [ 7.4570e-11, -1.5893e-11],\n",
       "         [ 3.7985e-11, -1.0206e-11],\n",
       "         [ 1.4238e-11,  3.4798e-11],\n",
       "         [ 7.5604e-11, -1.1619e-10],\n",
       "         [ 4.5599e-11, -5.3150e-11],\n",
       "         [ 6.6283e-11, -4.1731e-11],\n",
       "         [ 5.8343e-11, -7.7836e-11],\n",
       "         [ 1.1351e-11,  1.0000e+00]], grad_fn=<SelectBackward0>))"
      ]
     },
     "execution_count": 8,
     "metadata": {},
     "output_type": "execute_result"
    }
   ],
   "source": [
    "u_k, f_k"
   ]
  },
  {
   "cell_type": "code",
   "execution_count": 9,
   "id": "51161cf5",
   "metadata": {},
   "outputs": [],
   "source": [
    "compliance = torch.inner(f_k.ravel(), u_k.ravel())"
   ]
  },
  {
   "cell_type": "code",
   "execution_count": 10,
   "id": "5aa92453",
   "metadata": {},
   "outputs": [
    {
     "data": {
      "text/plain": [
       "tensor(1.0805, grad_fn=<ViewBackward0>)"
      ]
     },
     "execution_count": 10,
     "metadata": {},
     "output_type": "execute_result"
    }
   ],
   "source": [
    "compliance"
   ]
  },
  {
   "cell_type": "code",
   "execution_count": null,
   "id": "9b567231",
   "metadata": {},
   "outputs": [],
   "source": []
  }
 ],
 "metadata": {
  "kernelspec": {
   "display_name": "Python 3 (ipykernel)",
   "language": "python",
   "name": "python3"
  },
  "language_info": {
   "codemirror_mode": {
    "name": "ipython",
    "version": 3
   },
   "file_extension": ".py",
   "mimetype": "text/x-python",
   "name": "python",
   "nbconvert_exporter": "python",
   "pygments_lexer": "ipython3",
   "version": "3.9.6"
  }
 },
 "nbformat": 4,
 "nbformat_minor": 5
}
