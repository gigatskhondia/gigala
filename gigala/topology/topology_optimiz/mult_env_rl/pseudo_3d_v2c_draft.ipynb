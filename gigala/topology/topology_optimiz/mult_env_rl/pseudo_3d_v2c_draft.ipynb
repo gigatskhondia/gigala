{
 "cells": [
  {
   "cell_type": "code",
   "execution_count": 1,
   "id": "5df9c156",
   "metadata": {},
   "outputs": [],
   "source": [
    "import numpy as np\n",
    "import math\n",
    "import matplotlib.pyplot as plt\n",
    "import os\n",
    "import time\n",
    "from mpl_toolkits.mplot3d import Axes3D \n",
    "import scipy"
   ]
  },
  {
   "cell_type": "code",
   "execution_count": 2,
   "id": "795aff51",
   "metadata": {},
   "outputs": [],
   "source": [
    "import gymnasium\n",
    "from gymnasium import spaces"
   ]
  },
  {
   "cell_type": "code",
   "execution_count": 3,
   "id": "a5fb0afc",
   "metadata": {},
   "outputs": [
    {
     "name": "stderr",
     "output_type": "stream",
     "text": [
      "\n"
     ]
    }
   ],
   "source": [
    "from stable_baselines3 import PPO\n",
    "from stable_baselines3.common.env_checker import check_env\n",
    "from stable_baselines3.common.monitor import Monitor\n",
    "from stable_baselines3.common.results_plotter import load_results, ts2xy\n",
    "from stable_baselines3.common.callbacks import BaseCallback\n",
    "from stable_baselines3.common import results_plotter"
   ]
  },
  {
   "cell_type": "code",
   "execution_count": 4,
   "id": "ea66b503",
   "metadata": {},
   "outputs": [],
   "source": [
    "x0, y0 = 5, 5"
   ]
  },
  {
   "cell_type": "markdown",
   "id": "501892d4",
   "metadata": {},
   "source": [
    "### Finite Element Model of the Space Frame Element"
   ]
  },
  {
   "cell_type": "code",
   "execution_count": 5,
   "id": "e3f9b392",
   "metadata": {},
   "outputs": [],
   "source": [
    "def PlaneTrussElementLength(x1,y1,z1,x2,y2,z2):\n",
    "    return math.sqrt((x2-x1)*(x2-x1) + (y2-y1)*(y2-y1)+(z2-z1)*(z2-z1))"
   ]
  },
  {
   "cell_type": "code",
   "execution_count": 6,
   "id": "c15911c1",
   "metadata": {},
   "outputs": [],
   "source": [
    "def SpaceFrameElementStiffness(E,G,A,Iy,Iz,J,x1,y1,z1,x2,y2,z2):\n",
    "    L = PlaneTrussElementLength(x1,y1,z1,x2,y2,z2)\n",
    "    w1 = E*A/L\n",
    "    w2 = 12*E*Iz/(L*L*L)\n",
    "    w3 = 6*E*Iz/(L*L)\n",
    "    w4 = 4*E*Iz/L\n",
    "    w5 = 2*E*Iz/L\n",
    "    w6 = 12*E*Iy/(L*L*L)\n",
    "    w7 = 6*E*Iy/(L*L)\n",
    "    w8 = 4*E*Iy/L\n",
    "    w9 = 2*E*Iy/L\n",
    "    w10 = G*J/L\n",
    "    \n",
    "    kprime = np.array([[w1, 0, 0, 0, 0, 0, -w1, 0, 0, 0, 0, 0],\n",
    "                        [0, w2, 0, 0, 0, w3, 0, -w2, 0, 0, 0, w3], \n",
    "                        [0, 0, w6, 0, -w7, 0, 0, 0, -w6, 0, -w7, 0],\n",
    "                        [0, 0, 0, w10, 0, 0, 0, 0, 0, -w10, 0, 0],\n",
    "                        [0, 0, -w7, 0, w8, 0, 0, 0, w7, 0, w9, 0],\n",
    "                        [0, w3, 0, 0, 0, w4, 0, -w3, 0, 0, 0, w5],\n",
    "                        [-w1, 0, 0, 0, 0, 0, w1, 0, 0, 0, 0, 0],\n",
    "                        [0, -w2, 0, 0, 0, -w3, 0, w2, 0, 0, 0, -w3],\n",
    "                        [0, 0, -w6, 0, w7, 0, 0, 0, w6, 0, w7, 0],\n",
    "                        [0, 0, 0, -w10, 0, 0, 0, 0, 0, w10, 0, 0],\n",
    "                        [0, 0, -w7, 0, w9, 0, 0, 0, w7, 0, w8, 0],\n",
    "                        [0, w3, 0, 0, 0, w5, 0, -w3, 0, 0, 0, w4]])  \n",
    "    \n",
    "    \n",
    "    if x1 == x2 and y1 == y2:\n",
    "        if z2 > z1:\n",
    "            Lambda = np.array([[0, 0, 1], [0, 1, 0], [-1, 0, 0]])\n",
    "        else:\n",
    "            Lambda = np.array([[0, 0, -1], [0, 1, 0], [1, 0, 0]])\n",
    "    else:\n",
    "        CXx = (x2-x1)/L\n",
    "        CYx = (y2-y1)/L\n",
    "        CZx = (z2-z1)/L\n",
    "        D = math.sqrt(CXx*CXx + CYx*CYx)\n",
    "        CXy = -CYx/D\n",
    "        CYy = CXx/D\n",
    "        CZy = 0\n",
    "        CXz = -CXx*CZx/D\n",
    "        CYz = -CYx*CZx/D\n",
    "        CZz = D\n",
    "        Lambda = np.array([[CXx, CYx, CZx], [CXy, CYy, CZy], [CXz, CYz, CZz]])\n",
    "        \n",
    "        \n",
    "    R = np.array([np.concatenate((np.concatenate((Lambda,np.zeros((3,3)),np.zeros((3,3)),np.zeros((3,3))),axis=1),\n",
    "        np.concatenate((np.zeros((3,3)), Lambda, np.zeros((3,3)), np.zeros((3,3))),axis=1) ,\n",
    "        np.concatenate((np.zeros((3,3)), np.zeros((3,3)), Lambda, np.zeros((3,3))),axis=1), \n",
    "        np.concatenate((np.zeros((3,3)), np.zeros((3,3)), np.zeros((3,3)), Lambda),axis=1)))])[0]\n",
    "    return np.dot(np.dot(R.T,kprime),R) "
   ]
  },
  {
   "cell_type": "code",
   "execution_count": 7,
   "id": "282ed772",
   "metadata": {},
   "outputs": [],
   "source": [
    "def SpaceFrameAssemble(K,k,i,j):\n",
    "    K[6*i,6*i] = K[6*i,6*i] + k[0,0]\n",
    "    K[6*i,6*i+1] = K[6*i,6*i+1] + k[0,1]\n",
    "    K[6*i,6*i+2] = K[6*i,6*i+2] + k[0,2]\n",
    "    K[6*i,6*i+3] = K[6*i,6*i+3] + k[0,3]\n",
    "    K[6*i,6*i+4] = K[6*i,6*i+4] + k[0,4]\n",
    "    K[6*i,6*i+5] = K[6*i,6*i+5] + k[0,5]\n",
    "    K[6*i,6*j] = K[6*i,6*j] + k[0,6]\n",
    "    K[6*i,6*j+1] = K[6*i,6*j+1] + k[0,7]\n",
    "    K[6*i,6*j+2] = K[6*i,6*j+2] + k[0,8]\n",
    "    K[6*i,6*j+3] = K[6*i,6*j+3] + k[0,9]\n",
    "    K[6*i,6*j+4] = K[6*i,6*j+4] + k[0,10]\n",
    "    K[6*i,6*j+5] = K[6*i,6*j+5] + k[0,11]\n",
    "    K[6*i+1,6*i] = K[6*i+1,6*i] + k[1,0]\n",
    "    K[6*i+1,6*i+1] = K[6*i+1,6*i+1] + k[1,1]\n",
    "    K[6*i+1,6*i+2] = K[6*i+1,6*i+2] + k[1,2]\n",
    "    K[6*i+1,6*i+3] = K[6*i+1,6*i+3] + k[1,3]\n",
    "    K[6*i+1,6*i+4] = K[6*i+1,6*i+4] + k[1,4]\n",
    "    K[6*i+1,6*i+5] = K[6*i+1,6*i+5] + k[1,5]\n",
    "    K[6*i+1,6*j] = K[6*i+1,6*j] + k[1,6]\n",
    "    K[6*i+1,6*j+1] = K[6*i+1,6*j+1] + k[1,7]\n",
    "    K[6*i+1,6*j+2] = K[6*i+1,6*j+2] + k[1,8]\n",
    "    K[6*i+1,6*j+3] = K[6*i+1,6*j+3] + k[1,9]\n",
    "    K[6*i+1,6*j+4] = K[6*i+1,6*j+4] + k[1,10]\n",
    "    K[6*i+1,6*j+5] = K[6*i+1,6*j+5] + k[1,11]\n",
    "    K[6*i+2,6*i]   = K[6*i+2,6*i] + k[2,0]\n",
    "    K[6*i+2,6*i+1] = K[6*i+2,6*i+1] + k[2,1]\n",
    "    K[6*i+2,6*i+2] = K[6*i+2,6*i+2] + k[2,2]\n",
    "    K[6*i+2,6*i+3] = K[6*i+2,6*i+3] + k[2,3]\n",
    "    K[6*i+2,6*i+4] = K[6*i+2,6*i+4] + k[2,4]\n",
    "    K[6*i+2,6*i+5] = K[6*i+2,6*i+5] + k[2,5]\n",
    "    K[6*i+2,6*j]   = K[6*i+2,6*j] + k[2,6]\n",
    "    K[6*i+2,6*j+1] = K[6*i+2,6*j+1] + k[2,7]\n",
    "    K[6*i+2,6*j+2] = K[6*i+2,6*j+2] + k[2,8]\n",
    "    K[6*i+2,6*j+3] = K[6*i+2,6*j+3] + k[2,9]\n",
    "    K[6*i+2,6*j+4] = K[6*i+2,6*j+4] + k[2,10]\n",
    "    K[6*i+2,6*j+5] = K[6*i+2,6*j+5] + k[2,11]\n",
    "    K[6*i+3,6*i] = K[6*i+3,6*i] + k[3,0]\n",
    "    K[6*i+3,6*i+1] = K[6*i+3,6*i+1] + k[3,1]\n",
    "    K[6*i+3,6*i+2] = K[6*i+3,6*i+2] + k[3,2]\n",
    "    K[6*i+3,6*i+3] = K[6*i+3,6*i+3] + k[3,3]\n",
    "    K[6*i+3,6*i+4] = K[6*i+3,6*i+4] + k[3,4]\n",
    "    K[6*i+3,6*i+5] = K[6*i+3,6*i+5] + k[3,5]\n",
    "    K[6*i+3,6*j] = K[6*i+3,6*j] + k[3,6]\n",
    "    K[6*i+3,6*j+1] = K[6*i+3,6*j+1] + k[3,7]\n",
    "    K[6*i+3,6*j+2] = K[6*i+3,6*j+2] + k[3,8]    \n",
    "    K[6*i+3,6*j+3] = K[6*i+3,6*j+3] + k[3,9]\n",
    "    K[6*i+3,6*j+4] = K[6*i+3,6*j+4] + k[3,10]\n",
    "    K[6*i+3,6*j+5] = K[6*i+3,6*j+5] + k[3,11]\n",
    "    K[6*i+4,6*i] = K[6*i+4,6*i] + k[4,0]\n",
    "    K[6*i+4,6*i+1] = K[6*i+4,6*i+1] + k[4,1]\n",
    "    K[6*i+4,6*i+2] = K[6*i+4,6*i+2] + k[4,2]\n",
    "    K[6*i+4,6*i+3] = K[6*i+4,6*i+3] + k[4,3]\n",
    "    K[6*i+4,6*i+4] = K[6*i+4,6*i+4] + k[4,4]\n",
    "    K[6*i+4,6*i+5] = K[6*i+4,6*i+5] + k[4,5]\n",
    "    K[6*i+4,6*j] = K[6*i+4,6*j] + k[4,6]\n",
    "    K[6*i+4,6*j+1] = K[6*i+4,6*j+1] + k[4,7]\n",
    "    K[6*i+4,6*j+2] = K[6*i+4,6*j+2] + k[4,8]\n",
    "    K[6*i+4,6*j+3] = K[6*i+4,6*j+3] + k[4,9]\n",
    "    K[6*i+4,6*j+4] = K[6*i+4,6*j+4] + k[4,10]\n",
    "    K[6*i+4,6*j+5] = K[6*i+4,6*j+5] + k[4,11]\n",
    "    K[6*i+5,6*i] = K[6*i+5,6*i] + k[5,0]\n",
    "    K[6*i+5,6*i+1] = K[6*i+5,6*i+1] + k[5,1]\n",
    "    K[6*i+5,6*i+2] = K[6*i+5,6*i+2] + k[5,2]\n",
    "    K[6*i+5,6*i+3] = K[6*i+5,6*i+3] + k[5,3]\n",
    "    K[6*i+5,6*i+4] = K[6*i+5,6*i+4] + k[5,4]\n",
    "    K[6*i+5,6*i+5] = K[6*i+5,6*i+5] + k[5,5]\n",
    "    K[6*i+5,6*j] = K[6*i+5,6*j] + k[5,6]\n",
    "    K[6*i+5,6*j+1] = K[6*i+5,6*j+1] + k[5,7]\n",
    "    K[6*i+5,6*j+2] = K[6*i+5,6*j+2] + k[5,8]\n",
    "    K[6*i+5,6*j+3] = K[6*i+5,6*j+3] + k[5,9]\n",
    "    K[6*i+5,6*j+4] = K[6*i+5,6*j+4] + k[5,10]\n",
    "    K[6*i+5,6*j+5] = K[6*i+5,6*j+5] + k[5,11]\n",
    "    K[6*j,6*i] = K[6*j,6*i] + k[6,0]\n",
    "    K[6*j,6*i+1] = K[6*j,6*i+1] + k[6,1]\n",
    "    K[6*j,6*i+2] = K[6*j,6*i+2] + k[6,2]\n",
    "    K[6*j,6*i+3] = K[6*j,6*i+3] + k[6,3]\n",
    "    K[6*j,6*i+4] = K[6*j,6*i+4] + k[6,4]\n",
    "    K[6*j,6*i+5] = K[6*j,6*i+5] + k[6,5]\n",
    "    K[6*j,6*j] = K[6*j,6*j] + k[6,6]\n",
    "    K[6*j,6*j+1] = K[6*j,6*j+1] + k[6,7]\n",
    "    K[6*j,6*j+2] = K[6*j,6*j+2] + k[6,8]\n",
    "    K[6*j,6*j+3] = K[6*j,6*j+3] + k[6,9]\n",
    "    K[6*j,6*j+4] = K[6*j,6*j+4] + k[6,10]\n",
    "    K[6*j,6*j+5] = K[6*j,6*j+5] + k[6,11]\n",
    "    K[6*j+1,6*i] = K[6*j+1,6*i] + k[7,0]\n",
    "    K[6*j+1,6*i+1] = K[6*j+1,6*i+1] + k[7,1]\n",
    "    K[6*j+1,6*i+2] = K[6*j+1,6*i+2] + k[7,2]\n",
    "    K[6*j+1,6*i+3] = K[6*j+1,6*i+3] + k[7,3]\n",
    "    K[6*j+1,6*i+4] = K[6*j+1,6*i+4] + k[7,4]\n",
    "    K[6*j+1,6*i+5] = K[6*j+1,6*i+5] + k[7,5]\n",
    "    K[6*j+1,6*j] = K[6*j+1,6*j] + k[7,6]\n",
    "    K[6*j+1,6*j+1] = K[6*j+1,6*j+1] + k[7,7]\n",
    "    K[6*j+1,6*j+2] = K[6*j+1,6*j+2] + k[7,8]\n",
    "    K[6*j+1,6*j+3] = K[6*j+1,6*j+3] + k[7,9]\n",
    "    K[6*j+1,6*j+4] = K[6*j+1,6*j+4] + k[7,10]\n",
    "    K[6*j+1,6*j+5] = K[6*j+1,6*j+5] + k[7,11]\n",
    "    K[6*j+2,6*i] = K[6*j+2,6*i] + k[8,0]\n",
    "    K[6*j+2,6*i+1] = K[6*j+2,6*i+1] + k[8,1]\n",
    "    K[6*j+2,6*i+2] = K[6*j+2,6*i+2] + k[8,2]\n",
    "    K[6*j+2,6*i+3] = K[6*j+2,6*i+3] + k[8,3]\n",
    "    K[6*j+2,6*i+4] = K[6*j+2,6*i+4] + k[8,4]\n",
    "    K[6*j+2,6*i+5] = K[6*j+2,6*i+5] + k[8,5]\n",
    "    K[6*j+2,6*j] = K[6*j+2,6*j] + k[8,6]\n",
    "    K[6*j+2,6*j+1] = K[6*j+2,6*j+1] + k[8,7]\n",
    "    K[6*j+2,6*j+2] = K[6*j+2,6*j+2] + k[8,8]\n",
    "    K[6*j+2,6*j+3] = K[6*j+2,6*j+3] + k[8,9]\n",
    "    K[6*j+2,6*j+4] = K[6*j+2,6*j+4] + k[8,10]\n",
    "    K[6*j+2,6*j+5] = K[6*j+2,6*j+5] + k[8,11]\n",
    "    K[6*j+3,6*i] = K[6*j+3,6*i] + k[9,0]\n",
    "    K[6*j+3,6*i+1] = K[6*j+3,6*i+1] + k[9,1]\n",
    "    K[6*j+3,6*i+2] = K[6*j+3,6*i+2] + k[9,2]\n",
    "    K[6*j+3,6*i+3] = K[6*j+3,6*i+3] + k[9,3]\n",
    "    K[6*j+3,6*i+4] = K[6*j+3,6*i+4] + k[9,4]\n",
    "    K[6*j+3,6*i+5] = K[6*j+3,6*i+5] + k[9,5]\n",
    "    K[6*j+3,6*j] = K[6*j+3,6*j] + k[9,6]\n",
    "    K[6*j+3,6*j+1] = K[6*j+3,6*j+1] + k[9,7]\n",
    "    K[6*j+3,6*j+2] = K[6*j+3,6*j+2] + k[9,8]\n",
    "    K[6*j+3,6*j+3] = K[6*j+3,6*j+3] + k[9,9]\n",
    "    K[6*j+3,6*j+4] = K[6*j+3,6*j+4] + k[9,10]\n",
    "    K[6*j+3,6*j+5] = K[6*j+3,6*j+5] + k[9,11]\n",
    "    K[6*j+4,6*i] = K[6*j+4,6*i] + k[10,0]\n",
    "    K[6*j+4,6*i+1] = K[6*j+4,6*i+1] + k[10,1]\n",
    "    K[6*j+4,6*i+2] = K[6*j+4,6*i+2] + k[10,2]\n",
    "    K[6*j+4,6*i+3] = K[6*j+4,6*i+3] + k[10,3]\n",
    "    K[6*j+4,6*i+4] = K[6*j+4,6*i+4] + k[10,4]\n",
    "    K[6*j+4,6*i+5] = K[6*j+4,6*i+5] + k[10,5]\n",
    "    K[6*j+4,6*j] = K[6*j+4,6*j] + k[10,6]\n",
    "    K[6*j+4,6*j+1] = K[6*j+4,6*j+1] + k[10,7]\n",
    "    K[6*j+4,6*j+2] = K[6*j+4,6*j+2] + k[10,8]\n",
    "    K[6*j+4,6*j+3] = K[6*j+4,6*j+3] + k[10,9]\n",
    "    K[6*j+4,6*j+4] = K[6*j+4,6*j+4] + k[10,10]\n",
    "    K[6*j+4,6*j+5] = K[6*j+4,6*j+5] + k[10,11]\n",
    "    K[6*j+5,6*i] = K[6*j+5,6*i] + k[11,0]\n",
    "    K[6*j+5,6*i+1] = K[6*j+5,6*i+1] + k[11,1]\n",
    "    K[6*j+5,6*i+2] = K[6*j+5,6*i+2] + k[11,2]\n",
    "    K[6*j+5,6*i+3] = K[6*j+5,6*i+3] + k[11,3]\n",
    "    K[6*j+5,6*i+4] = K[6*j+5,6*i+4] + k[11,4]\n",
    "    K[6*j+5,6*i+5] = K[6*j+5,6*i+5] + k[11,5]\n",
    "    K[6*j+5,6*j] = K[6*j+5,6*j] + k[11,6]\n",
    "    K[6*j+5,6*j+1] = K[6*j+5,6*j+1] + k[11,7]\n",
    "    K[6*j+5,6*j+2] = K[6*j+5,6*j+2] + k[11,8]\n",
    "    K[6*j+5,6*j+3] = K[6*j+5,6*j+3] + k[11,9]\n",
    "    K[6*j+5,6*j+4] = K[6*j+5,6*j+4] + k[11,10]\n",
    "    K[6*j+5,6*j+5] = K[6*j+5,6*j+5] + k[11,11]\n",
    "    \n",
    "    return K"
   ]
  },
  {
   "cell_type": "code",
   "execution_count": 8,
   "id": "04246664",
   "metadata": {},
   "outputs": [],
   "source": [
    "def total_length(coord,elcon):\n",
    "    coord=np.array(coord)\n",
    "    elcon=np.array(elcon)\n",
    "    t_length=0\n",
    "    for i in range(len(elcon)):\n",
    "        l=PlaneTrussElementLength(coord[elcon[i][0]][0],\\\n",
    "                                    coord[elcon[i][0]][1],\\\n",
    "                                    coord[elcon[i][0]][2],\\\n",
    "                                    coord[elcon[i][1]][0],\\\n",
    "                                    coord[elcon[i][1]][1],\\\n",
    "                                    coord[elcon[i][1]][2])\n",
    "        t_length+=l        \n",
    "    return t_length "
   ]
  },
  {
   "cell_type": "code",
   "execution_count": 9,
   "id": "c797a76e",
   "metadata": {},
   "outputs": [],
   "source": [
    "def FEA_u(coord, elcon, bc_node, bc_val, global_force, \n",
    "          E=210e6, G=84e6, A=2e-2, Iy=10e-5, Iz=20e-5, J=5e-5):\n",
    "    coord=np.array(coord)\n",
    "    elcon=np.array(elcon)\n",
    "    \n",
    "    def young_modulus(x, e_0=1, e_min=1e-9, p=3):\n",
    "        return e_min + x ** p * (e_0 - e_min)\n",
    "    \n",
    "    def gaussian_filter(x, width=1): # 2D gaussian blur/filter\n",
    "        return scipy.ndimage.gaussian_filter(x, width, mode='reflect')\n",
    "    \n",
    "    K=np.ones(shape=(6*(np.max(elcon)+1),6*(np.max(elcon)+1)))*(1e-4)\n",
    "    \n",
    "    \n",
    "    for el in elcon:\n",
    "        k=SpaceFrameElementStiffness(E,G,A,Iy,Iz,J,\n",
    "                                     coord[el[0]][0],coord[el[0]][1],coord[el[0]][2],\\\n",
    "                                     coord[el[1]][0],coord[el[1]][1],coord[el[1]][2])\n",
    "        k = young_modulus(k)\n",
    "        k = gaussian_filter(k)\n",
    "        K=SpaceFrameAssemble(K, k, el[0], el[1])\n",
    "        \n",
    "    F = np.array(global_force)\n",
    "    \n",
    "    \n",
    "#     K = young_modulus(K)\n",
    "#     K = gaussian_filter(K)\n",
    "    \n",
    "    # https://github.com/CALFEM/calfem-matlab/blob/master/fem/solveq.m\n",
    "    \n",
    "    bc=np.array([bc_node, \n",
    "                bc_val]).T\n",
    "    nd, nd=K.shape\n",
    "    fdof=np.array([i for i in range(nd)]).T\n",
    "    d=np.zeros(shape=(len(fdof),))\n",
    "    Q=np.zeros(shape=(len(fdof),))\n",
    "\n",
    "    pdof=bc[:,0].astype(int)\n",
    "    dp=bc[:,1]\n",
    "    fdof=np.delete(fdof, pdof, 0)\n",
    "    s=np.linalg.lstsq(K[fdof,:][:,fdof], (F[fdof].T-np.dot(K[fdof,:][:,pdof],dp.T)).T, rcond=None)[0] \n",
    "    d[pdof]=dp\n",
    "    d[fdof]=s.reshape(-1,)\n",
    "    \n",
    "    \n",
    "#     Q=np.dot(K,d).T-F \n",
    "    compliance=d.T @ K @ d\n",
    "    \n",
    "    return d, compliance, total_length(coord,elcon)"
   ]
  },
  {
   "cell_type": "code",
   "execution_count": 10,
   "id": "0c1ecc5e",
   "metadata": {},
   "outputs": [],
   "source": [
    "# 10 The Space Frame Element - verification"
   ]
  },
  {
   "cell_type": "code",
   "execution_count": 11,
   "id": "bbe81af8",
   "metadata": {},
   "outputs": [],
   "source": [
    "d, compliance, t_length  =FEA_u(np.array([0,0,0,\n",
    "                  3,0,0,\n",
    "                  0,0,-3,\n",
    "                  0,-4,0]).reshape(4,3),\n",
    "        elcon=np.array([[0, 1],\n",
    "                      [0, 2],\n",
    "                      [0, 3]]),\n",
    "        bc_node=list(range(6,24)), \n",
    "        bc_val=[0]*18,\n",
    "        global_force=[-10,0,20,0,0,0,\n",
    "                                0,0,0,0,0,0,\n",
    "                                0,0,0,0,0,0,\n",
    "                                0,0,0,0,0,0])"
   ]
  },
  {
   "cell_type": "code",
   "execution_count": null,
   "id": "a3eeb754",
   "metadata": {},
   "outputs": [],
   "source": []
  },
  {
   "cell_type": "code",
   "execution_count": 12,
   "id": "771a55bb",
   "metadata": {},
   "outputs": [
    {
     "data": {
      "text/plain": [
       "array([-5.96951337e-13, -8.54665846e-12,  1.78628801e-11, -2.70162560e-11,\n",
       "        2.81303716e-11, -1.40079553e-11,  0.00000000e+00,  0.00000000e+00,\n",
       "        0.00000000e+00,  0.00000000e+00,  0.00000000e+00,  0.00000000e+00,\n",
       "        0.00000000e+00,  0.00000000e+00,  0.00000000e+00,  0.00000000e+00,\n",
       "        0.00000000e+00,  0.00000000e+00,  0.00000000e+00,  0.00000000e+00,\n",
       "        0.00000000e+00,  0.00000000e+00,  0.00000000e+00,  0.00000000e+00])"
      ]
     },
     "execution_count": 12,
     "metadata": {},
     "output_type": "execute_result"
    }
   ],
   "source": [
    "d"
   ]
  },
  {
   "cell_type": "code",
   "execution_count": 13,
   "id": "a86334d4",
   "metadata": {},
   "outputs": [
    {
     "data": {
      "text/plain": [
       "3.6322711565301336e-10"
      ]
     },
     "execution_count": 13,
     "metadata": {},
     "output_type": "execute_result"
    }
   ],
   "source": [
    "compliance"
   ]
  },
  {
   "cell_type": "code",
   "execution_count": 14,
   "id": "059f7441",
   "metadata": {},
   "outputs": [
    {
     "data": {
      "text/plain": [
       "10.0"
      ]
     },
     "execution_count": 14,
     "metadata": {},
     "output_type": "execute_result"
    }
   ],
   "source": [
    "t_length"
   ]
  },
  {
   "cell_type": "markdown",
   "id": "ebf64004",
   "metadata": {},
   "source": [
    "### RL model"
   ]
  },
  {
   "cell_type": "code",
   "execution_count": 15,
   "id": "b745b144",
   "metadata": {},
   "outputs": [],
   "source": [
    "class Model:\n",
    "    def __init__(self, x):\n",
    "        self.flag_ = True\n",
    "        self.n, self.m = x.shape\n",
    "        self.actions_dic={} \n",
    "    \n",
    "        k=0\n",
    "        for i in range(self.n):\n",
    "            for j in range(self.m):\n",
    "                self.actions_dic[k]=(i,j)\n",
    "                k+=1\n",
    "        \n",
    "    def action_space_(self, action, X):\n",
    "        x,y=self.actions_dic[action]\n",
    "        X[x][y]=1"
   ]
  },
  {
   "cell_type": "code",
   "execution_count": 44,
   "id": "ddc630e8",
   "metadata": {},
   "outputs": [],
   "source": [
    "def draw(coord, elcon, color='red'):\n",
    "    c = np.array(coord)\n",
    "    e = np.array(elcon)\n",
    "\n",
    "    if e.size == 0:\n",
    "        print(\"Warning: 'elcon' is empty. Nothing to draw.\")\n",
    "        return\n",
    "\n",
    "    try:\n",
    "        coord = c.reshape(np.max(e) + 1, 3)\n",
    "    except Exception as ex:\n",
    "        print(f\"Error reshaping coord: {ex}\")\n",
    "        return\n",
    "\n",
    "    fig = plt.figure(figsize=(13, 5))\n",
    "    ax = fig.add_subplot(111, projection='3d')\n",
    "\n",
    "    for item in e:\n",
    "        ax.plot([coord[item[0]][0], coord[item[1]][0]],\n",
    "                [coord[item[0]][1], coord[item[1]][1]],\n",
    "                [coord[item[0]][2], coord[item[1]][2]],\n",
    "                color=color, linewidth=5)\n",
    "\n",
    "#     ax.view_init(45, 45)\n",
    "    ax.view_init(0, -90)\n",
    "    ax.set_xlim([0, 5])\n",
    "    ax.set_ylim([0, 5])\n",
    "    ax.set_zlim([0, 5])  # Optional: add z-axis limit\n",
    "    ax.set_zlim(ax.get_zlim()[::-1])\n",
    "    plt.show()\n",
    "    "
   ]
  },
  {
   "cell_type": "code",
   "execution_count": 17,
   "id": "7cdfaf1c",
   "metadata": {},
   "outputs": [],
   "source": [
    "class CantileverEnv(gymnasium.Env):\n",
    "    \n",
    "    metadata = {\"render.modes\": [\"human\"]}\n",
    "\n",
    "    def __init__(self):\n",
    "        super().__init__()\n",
    "        \n",
    "        \n",
    "        DIM = x0*y0\n",
    "        N_DISCRETE_ACTIONS = x0*y0\n",
    "        \n",
    "        self.action_space = spaces.Discrete(N_DISCRETE_ACTIONS)\n",
    "        self.observation_space = spaces.Box(low=np.array([-1e10 for x in range(DIM)]),\n",
    "                                            high=np.array([1e10 for y in range(DIM)]),\n",
    "                                            shape=(DIM,),\n",
    "                                           dtype=np.float64)\n",
    "        \n",
    " \n",
    "        self.x = np.zeros((y0, x0))\n",
    "    \n",
    "        self.M=Model(self.x)\n",
    "        \n",
    "        self.reward=0\n",
    "        self.step_=0\n",
    "        self.needs_reset = True\n",
    "\n",
    "        \n",
    "    def step(self, action):\n",
    "        \n",
    "        \n",
    "        self.M.action_space_(action, self.x)        \n",
    "        self.step_+=1\n",
    "               \n",
    "        done=False\n",
    "                  \n",
    "        if self.step_>0.7*x0*y0:\n",
    "            done=True            \n",
    "            \n",
    "        if self.needs_reset:\n",
    "            raise RuntimeError(\"Tried to step environment that needs reset\")\n",
    "            \n",
    "        if done:\n",
    "            self.needs_reset = True\n",
    "                         \n",
    "      \n",
    "        return self.x.reshape(self.x.shape[0]*self.x.shape[1]), 0, done, False, dict()\n",
    "\n",
    "    def reset(self, seed=0):\n",
    "                   \n",
    "        self.x = np.zeros((y0, x0))\n",
    "\n",
    "        self.reward=0\n",
    "        self.needs_reset = False\n",
    "        self.step_=0\n",
    "\n",
    "        return self.x.reshape(self.x.shape[0]*self.x.shape[1]),{}\n",
    "\n",
    "    def render(self, mode=\"human\"):\n",
    "        pass   \n",
    "\n",
    "    def close(self):\n",
    "        pass"
   ]
  },
  {
   "cell_type": "code",
   "execution_count": 18,
   "id": "638c4f66",
   "metadata": {},
   "outputs": [],
   "source": [
    "class SaveOnBestTrainingRewardCallback(BaseCallback):\n",
    "    \"\"\"\n",
    "    Callback for saving a model (the check is done every ``check_freq`` steps)\n",
    "    based on the training reward (in practice, we recommend using ``EvalCallback``).\n",
    "\n",
    "    :param check_freq: (int)\n",
    "    :param log_dir: (str) Path to the folder where the model will be saved.\n",
    "      It must contains the file created by the ``Monitor`` wrapper.\n",
    "    :param verbose: (int)\n",
    "    \"\"\"\n",
    "\n",
    "    def __init__(self, check_freq: int, log_dir: str, verbose=1):\n",
    "        super().__init__(verbose)\n",
    "        self.check_freq = check_freq\n",
    "        self.log_dir = log_dir\n",
    "        self.save_path = os.path.join(log_dir, \"best_model\")\n",
    "        self.best_mean_reward = -np.inf\n",
    "\n",
    "    def _init_callback(self) -> None:\n",
    "        # Create folder if needed\n",
    "        if self.save_path is not None:\n",
    "            os.makedirs(self.save_path, exist_ok=True)\n",
    "\n",
    "    def _on_step(self) -> bool:\n",
    "        if self.n_calls % self.check_freq == 0:\n",
    "            \n",
    "            \n",
    "            \n",
    "            # Retrieve training reward\n",
    "            x, y = ts2xy(load_results(self.log_dir), \"timesteps\")\n",
    "#             print(y)\n",
    "            if len(x) > 0:\n",
    "                # Mean training reward over the last 100 episodes\n",
    "                \n",
    "                mean_reward = np.mean(y[-100:])\n",
    "                \n",
    "                if self.verbose > 0:\n",
    "                    print(f\"Num timesteps: {self.num_timesteps}\")\n",
    "                    print(\n",
    "                        f\"Best mean reward: {self.best_mean_reward:.2f} - Last mean reward per episode: {mean_reward:.2f}\"\n",
    "                    )\n",
    "\n",
    "                # New best model, you could save the agent here\n",
    "                if mean_reward > self.best_mean_reward:\n",
    "                    self.best_mean_reward = mean_reward\n",
    "                    # Example for saving best model\n",
    "                    if self.verbose > 0:\n",
    "                        print(f\"Saving new best model to {self.save_path}.zip\")\n",
    "                    self.model.save(self.save_path)\n",
    "\n",
    "        return True"
   ]
  },
  {
   "cell_type": "code",
   "execution_count": 19,
   "id": "0c1286a0",
   "metadata": {},
   "outputs": [],
   "source": [
    "def reconstruct_3d_structure(xy_plane, yz_plane, xz_plane):\n",
    "    \"\"\"\n",
    "    Reconstructs a 3D structure from three 2D projections using extrusion and intersection.\n",
    "\n",
    "    Parameters:\n",
    "        xy_plane (ndarray): 2D binary array (X by Y) projection in XY plane.\n",
    "        yz_plane (ndarray): 2D binary array (Y by Z) projection in YZ plane.\n",
    "        xz_plane (ndarray): 2D binary array (X by Z) projection in XZ plane.\n",
    "\n",
    "    Returns:\n",
    "        volume (ndarray): 3D binary array (X by Y by Z) representing the reconstructed structure.\n",
    "    \"\"\"\n",
    "    x_dim, y_dim = xy_plane.shape\n",
    "    y_dim2, z_dim = yz_plane.shape\n",
    "    x_dim2, z_dim2 = xz_plane.shape\n",
    "\n",
    "    assert x_dim == x_dim2, \"X dimensions mismatch between XY and XZ planes.\"\n",
    "    assert y_dim == y_dim2, \"Y dimensions mismatch between XY and YZ planes.\"\n",
    "    assert z_dim == z_dim2, \"Z dimensions mismatch between YZ and XZ planes.\"\n",
    "\n",
    "    # Extrude XY along Z\n",
    "    xy_extruded = np.repeat(xy_plane[:, :, np.newaxis], z_dim, axis=2)\n",
    "\n",
    "    # Extrude YZ along X\n",
    "    yz_extruded = np.repeat(yz_plane[np.newaxis, :, :], x_dim, axis=0)\n",
    "\n",
    "    # Extrude XZ along Y\n",
    "    xz_extruded = np.repeat(xz_plane[:, np.newaxis, :], y_dim, axis=1)\n",
    "\n",
    "    # Intersect all three extrusions\n",
    "    volume = xy_extruded & yz_extruded & xz_extruded\n",
    "\n",
    "    return volume.astype(np.uint8)  # or bool, depending on your needs\n"
   ]
  },
  {
   "cell_type": "code",
   "execution_count": 20,
   "id": "38498b31",
   "metadata": {},
   "outputs": [],
   "source": [
    "def get_voxel_edge_pairs(volume):\n",
    "    \"\"\"\n",
    "    Extracts node coordinates and all edge (node pair) connections\n",
    "    from solid voxels in a 3D volume.\n",
    "\n",
    "    Parameters:\n",
    "        volume (ndarray): 3D binary voxel array (nx, ny, nz)\n",
    "\n",
    "    Returns:\n",
    "        node_coords (ndarray): Unique node coordinates, shape (N_nodes, 3)\n",
    "        edge_pairs (list of tuple): Each edge as a (node_index_1, node_index_2)\n",
    "    \"\"\"\n",
    "    nx, ny, nz = volume.shape\n",
    "\n",
    "    node_map = {}\n",
    "    node_coords = []\n",
    "    node_id_counter = 0\n",
    "    edge_pairs = set()  # use set to avoid duplicates\n",
    "\n",
    "    # Define local edge pairs (in terms of local hexahedron corner indices)\n",
    "    edge_template = [\n",
    "        (0, 1), (1, 2), (2, 3), (3, 0),  # bottom\n",
    "        (4, 5), (5, 6), (6, 7), (7, 4),  # top\n",
    "        (0, 4), (1, 5), (2, 6), (3, 7)   # verticals\n",
    "    ]\n",
    "    \n",
    "    volume[0, 0, 0]=1\n",
    "    \n",
    "    volume[nx-1, ny-1, 0]=1\n",
    "    volume[nx-1, 0 , nz-1]=1\n",
    "    volume[0, ny-1, nz-1]=1\n",
    "    volume[nx-1, ny-1, nz-1]=1\n",
    "    \n",
    "    for i in range(nx):\n",
    "        for j in range(ny):\n",
    "            for k in range(nz):\n",
    "                if volume[i, j, k] == 1:\n",
    "                    # 8 corner points of the voxel\n",
    "                    corners = [\n",
    "                        (i  , j  , k  ),  # 0\n",
    "                        (i+1, j  , k  ),  # 1\n",
    "                        (i+1, j+1, k  ),  # 2\n",
    "                        (i  , j+1, k  ),  # 3\n",
    "                        (i  , j  , k+1),  # 4\n",
    "                        (i+1, j  , k+1),  # 5\n",
    "                        (i+1, j+1, k+1),  # 6\n",
    "                        (i  , j+1, k+1)   # 7\n",
    "                    ]\n",
    "\n",
    "                    local_ids = []\n",
    "                    for pt in corners:\n",
    "                        if pt not in node_map:\n",
    "                            node_map[pt] = node_id_counter\n",
    "                            node_coords.append(pt)\n",
    "                            node_id_counter += 1\n",
    "                        local_ids.append(node_map[pt])\n",
    "#                     print(local_ids)\n",
    "                    # Add the 12 edges from this voxel\n",
    "                    for (a, b) in edge_template:\n",
    "                        n1, n2 = local_ids[a], local_ids[b]\n",
    "                        edge = tuple(sorted((n1, n2)))\n",
    "                        edge_pairs.add(edge)\n",
    "                        \n",
    "    a00 = list(range(6*(node_map[nx-1, ny-1, 0]-1), 6*node_map[nx-1, ny-1, 0]))\n",
    "    a10 = list(range(6*(node_map[nx-1, 0 , nz-1]-1), 6*node_map[nx-1, 0 , nz-1]))\n",
    "    a01 = list(range(6*(node_map[0, ny-1, nz-1]-1), 6*node_map[0, ny-1, nz-1]))\n",
    "    a11= list(range(6*(node_map[nx-1, ny-1, nz-1]-1), 6*node_map[nx-1, ny-1, nz-1]))  \n",
    "    bc_ = sorted(a00+a10+a01+a11)\n",
    "\n",
    "    return np.array(node_coords), list(edge_pairs), bc_"
   ]
  },
  {
   "cell_type": "code",
   "execution_count": null,
   "id": "1270a89d",
   "metadata": {},
   "outputs": [],
   "source": []
  },
  {
   "cell_type": "code",
   "execution_count": 21,
   "id": "a1caa50a",
   "metadata": {},
   "outputs": [],
   "source": [
    "class CrossRewardEnv(gymnasium.Env):\n",
    "    def __init__(self):\n",
    "        super().__init__()\n",
    "        self.env1 = CantileverEnv()\n",
    "        self.env2 = CantileverEnv()\n",
    "        self.env3 = CantileverEnv()\n",
    "\n",
    "        self.observation_space = spaces.Dict({\n",
    "            'X_projection': self.env1.observation_space,\n",
    "            'Y_projection': self.env2.observation_space,\n",
    "            'Z_projection': self.env2.observation_space,\n",
    "        })\n",
    "\n",
    "        self.action_space = spaces.MultiDiscrete([x0*y0, x0*y0, x0*y0])\n",
    "\n",
    "    def reset(self,seed=0):\n",
    "        obs1, info1 = self.env1.reset()\n",
    "        obs2, info2 = self.env2.reset()\n",
    "        obs3, info3 = self.env3.reset()\n",
    "        return {\n",
    "            'X_projection': obs1,\n",
    "            'Y_projection': obs2,\n",
    "            'Z_projection': obs3\n",
    "        }, {\n",
    "            'X_projection': info1,\n",
    "            'Y_projection': info2,\n",
    "            'Z_projection': info3\n",
    "        }\n",
    "\n",
    "    def step(self, action):\n",
    "        a1 = action[0]\n",
    "        a2 = action[1]\n",
    "        a3 = action[2]\n",
    "\n",
    "        obs1_, r1, done1,_, info1 = self.env1.step(a1)\n",
    "        obs2_, r2, done2,_, info2 = self.env2.step(a2)\n",
    "        obs3_, r3, done3,_, info3 = self.env3.step(a3)\n",
    "        obs1=obs1_.reshape(y0,x0).astype(np.uint8)\n",
    "        obs2=obs2_.reshape(y0,x0).astype(np.uint8)\n",
    "        obs3=obs3_.reshape(y0,x0).astype(np.uint8)\n",
    "        topology = reconstruct_3d_structure(obs1, obs2, obs3)\n",
    "        obs1=obs1_\n",
    "        obs2=obs2_\n",
    "        obs3=obs3_\n",
    "\n",
    "        self.coord, self.elcon, bc_node  = get_voxel_edge_pairs(topology)\n",
    "        \n",
    "        arr = np.array(self.elcon)\n",
    "        \n",
    "                        \n",
    "        bc_val=[0]*len(bc_node)\n",
    "        global_force=[-10,0,0,0,0,0] + list(range(6*(np.max(arr)+1)-6))\n",
    "                \n",
    "        try:\n",
    "            d, compliance, t_length  = FEA_u(self.coord, self.elcon, bc_node, bc_val, global_force)\n",
    "        except:\n",
    "            compliance, t_length = 1e9, x0**4\n",
    "          \n",
    "        \n",
    "        a1 = 1/compliance**0.5\n",
    "        a2 = t_length/x0**4\n",
    "        reward=2*a1*a2/(a1+a2)\n",
    "\n",
    "        done = done1 or done2 or done3  \n",
    "\n",
    "        return {\n",
    "            'X_projection': obs1,\n",
    "            'Y_projection': obs2,\n",
    "            'Z_projection': obs3\n",
    "        }, reward, done, False, {\n",
    "            'X_projection': info1,\n",
    "            'Y_projection': info2,\n",
    "            'Z_projection': info3,\n",
    "        }\n",
    "\n",
    "    def render(self, mode='human'):    \n",
    "        draw(self.coord, self.elcon,'red')   \n",
    "\n",
    "    def close(self):\n",
    "        self.env1.close()\n",
    "        self.env2.close()\n",
    "        self.env3.close()\n"
   ]
  },
  {
   "cell_type": "markdown",
   "id": "cafc99e1",
   "metadata": {},
   "source": [
    "### Training "
   ]
  },
  {
   "cell_type": "code",
   "execution_count": 22,
   "id": "0aee358b",
   "metadata": {},
   "outputs": [],
   "source": [
    "ts=0.1*1e6"
   ]
  },
  {
   "cell_type": "code",
   "execution_count": 23,
   "id": "8cfdc6a1",
   "metadata": {},
   "outputs": [],
   "source": [
    "# Create log dir\n",
    "log_dir = \"/tmp/gym7b2_ext/\"\n",
    "os.makedirs(log_dir, exist_ok=True)"
   ]
  },
  {
   "cell_type": "code",
   "execution_count": 24,
   "id": "897fbff1",
   "metadata": {},
   "outputs": [],
   "source": [
    "callback = SaveOnBestTrainingRewardCallback(check_freq=5000, log_dir=log_dir)"
   ]
  },
  {
   "cell_type": "code",
   "execution_count": 25,
   "id": "6728425f",
   "metadata": {},
   "outputs": [],
   "source": [
    "env=CrossRewardEnv()\n",
    "check_env(env)\n",
    "env  = Monitor(env, log_dir)"
   ]
  },
  {
   "cell_type": "code",
   "execution_count": null,
   "id": "4d25bade",
   "metadata": {},
   "outputs": [],
   "source": []
  },
  {
   "cell_type": "code",
   "execution_count": 26,
   "id": "bbf827b9",
   "metadata": {},
   "outputs": [
    {
     "name": "stdout",
     "output_type": "stream",
     "text": [
      "Num timesteps: 5000\n",
      "Best mean reward: -inf - Last mean reward per episode: 6.60\n",
      "Saving new best model to /tmp/gym7b2_ext/best_model.zip\n",
      "Num timesteps: 10000\n",
      "Best mean reward: 6.60 - Last mean reward per episode: 6.67\n",
      "Saving new best model to /tmp/gym7b2_ext/best_model.zip\n",
      "Num timesteps: 15000\n",
      "Best mean reward: 6.67 - Last mean reward per episode: 6.74\n",
      "Saving new best model to /tmp/gym7b2_ext/best_model.zip\n",
      "Num timesteps: 20000\n",
      "Best mean reward: 6.74 - Last mean reward per episode: 6.76\n",
      "Saving new best model to /tmp/gym7b2_ext/best_model.zip\n",
      "Num timesteps: 25000\n",
      "Best mean reward: 6.76 - Last mean reward per episode: 6.81\n",
      "Saving new best model to /tmp/gym7b2_ext/best_model.zip\n",
      "Num timesteps: 30000\n",
      "Best mean reward: 6.81 - Last mean reward per episode: 6.86\n",
      "Saving new best model to /tmp/gym7b2_ext/best_model.zip\n",
      "Num timesteps: 35000\n",
      "Best mean reward: 6.86 - Last mean reward per episode: 7.01\n",
      "Saving new best model to /tmp/gym7b2_ext/best_model.zip\n",
      "Num timesteps: 40000\n",
      "Best mean reward: 7.01 - Last mean reward per episode: 6.96\n",
      "Num timesteps: 45000\n",
      "Best mean reward: 7.01 - Last mean reward per episode: 6.96\n",
      "Num timesteps: 50000\n",
      "Best mean reward: 7.01 - Last mean reward per episode: 7.02\n",
      "Saving new best model to /tmp/gym7b2_ext/best_model.zip\n",
      "Num timesteps: 55000\n",
      "Best mean reward: 7.02 - Last mean reward per episode: 7.06\n",
      "Saving new best model to /tmp/gym7b2_ext/best_model.zip\n",
      "Num timesteps: 60000\n",
      "Best mean reward: 7.06 - Last mean reward per episode: 7.08\n",
      "Saving new best model to /tmp/gym7b2_ext/best_model.zip\n",
      "Num timesteps: 65000\n",
      "Best mean reward: 7.08 - Last mean reward per episode: 7.15\n",
      "Saving new best model to /tmp/gym7b2_ext/best_model.zip\n",
      "Num timesteps: 70000\n",
      "Best mean reward: 7.15 - Last mean reward per episode: 7.01\n",
      "Num timesteps: 75000\n",
      "Best mean reward: 7.15 - Last mean reward per episode: 7.08\n",
      "Num timesteps: 80000\n",
      "Best mean reward: 7.15 - Last mean reward per episode: 7.26\n",
      "Saving new best model to /tmp/gym7b2_ext/best_model.zip\n",
      "Num timesteps: 85000\n",
      "Best mean reward: 7.26 - Last mean reward per episode: 7.34\n",
      "Saving new best model to /tmp/gym7b2_ext/best_model.zip\n",
      "Num timesteps: 90000\n",
      "Best mean reward: 7.34 - Last mean reward per episode: 7.17\n",
      "Num timesteps: 95000\n",
      "Best mean reward: 7.34 - Last mean reward per episode: 7.41\n",
      "Saving new best model to /tmp/gym7b2_ext/best_model.zip\n",
      "Num timesteps: 100000\n",
      "Best mean reward: 7.41 - Last mean reward per episode: 7.48\n",
      "Saving new best model to /tmp/gym7b2_ext/best_model.zip\n"
     ]
    }
   ],
   "source": [
    "start=time.time()\n",
    "model = PPO(\"MultiInputPolicy\", env).learn(total_timesteps=ts, callback=callback)\n",
    "end=time.time()  "
   ]
  },
  {
   "cell_type": "code",
   "execution_count": 27,
   "id": "8d54db1e",
   "metadata": {},
   "outputs": [
    {
     "name": "stdout",
     "output_type": "stream",
     "text": [
      "Total time taken: 124.27822478612264 min\n"
     ]
    }
   ],
   "source": [
    "print('Total time taken: {} min'.format((end - start)/60))"
   ]
  },
  {
   "cell_type": "markdown",
   "id": "c70fa65c",
   "metadata": {},
   "source": [
    "### Inference"
   ]
  },
  {
   "cell_type": "code",
   "execution_count": 28,
   "id": "2457ef00",
   "metadata": {},
   "outputs": [],
   "source": [
    "obs=env.reset()"
   ]
  },
  {
   "cell_type": "code",
   "execution_count": 29,
   "id": "5271ab1d",
   "metadata": {},
   "outputs": [],
   "source": [
    "obs=obs[0]"
   ]
  },
  {
   "cell_type": "code",
   "execution_count": 30,
   "id": "4ea31b90",
   "metadata": {},
   "outputs": [],
   "source": [
    "i=0\n",
    "ans=[]\n",
    "while i<1000:\n",
    "    action, _states = model.predict(obs)\n",
    "    obs, rewards, dones,_, info = env.step(action)\n",
    "    ans.append(obs)\n",
    "    if dones:\n",
    "        break\n",
    "    i+=1"
   ]
  },
  {
   "cell_type": "code",
   "execution_count": 31,
   "id": "294ae712",
   "metadata": {},
   "outputs": [],
   "source": [
    "topology = reconstruct_3d_structure(ans[-1]['X_projection'].astype(np.uint8).reshape(y0,x0), \n",
    "                                    ans[-1]['Y_projection'].astype(np.uint8).reshape(y0,x0),\n",
    "                                    ans[-1]['Z_projection'].astype(np.uint8).reshape(y0,x0))\n",
    "coord, elcon, m = get_voxel_edge_pairs(topology)"
   ]
  },
  {
   "cell_type": "code",
   "execution_count": 32,
   "id": "dfa71f55",
   "metadata": {},
   "outputs": [
    {
     "data": {
      "image/png": "[encoded data removed]",
      "text/plain": [
       "<Figure size 1300x500 with 1 Axes>"
      ]
     },
     "metadata": {},
     "output_type": "display_data"
    }
   ],
   "source": [
    "draw(coord, elcon,'green')"
   ]
  },
  {
   "cell_type": "code",
   "execution_count": 33,
   "id": "7971fc4f",
   "metadata": {},
   "outputs": [
    {
     "data": {
      "image/png": "[encoded data removed]",
      "text/plain": [
       "<Figure size 800x200 with 1 Axes>"
      ]
     },
     "metadata": {},
     "output_type": "display_data"
    }
   ],
   "source": [
    "results_plotter.plot_results([log_dir], ts, results_plotter.X_TIMESTEPS, \"CantileverEnv\")"
   ]
  },
  {
   "cell_type": "code",
   "execution_count": null,
   "id": "13338629",
   "metadata": {},
   "outputs": [],
   "source": []
  },
  {
   "cell_type": "code",
   "execution_count": 34,
   "id": "5027e214",
   "metadata": {},
   "outputs": [],
   "source": [
    "obs=env.reset()"
   ]
  },
  {
   "cell_type": "code",
   "execution_count": 35,
   "id": "09e787dd",
   "metadata": {},
   "outputs": [],
   "source": [
    "obs=obs[0]"
   ]
  },
  {
   "cell_type": "code",
   "execution_count": 36,
   "id": "0eeb49c6",
   "metadata": {},
   "outputs": [],
   "source": [
    "model_best = PPO.load(log_dir + \"best_model.zip\", env=env)"
   ]
  },
  {
   "cell_type": "code",
   "execution_count": 37,
   "id": "d1f8872c",
   "metadata": {},
   "outputs": [],
   "source": [
    "i=0\n",
    "ans=[]\n",
    "while i<1000:\n",
    "    action, _states = model_best.predict(obs)\n",
    "    obs, rewards, dones,_, info = env.step(action)\n",
    "    ans.append(obs)\n",
    "    if dones:\n",
    "        break\n",
    "    \n",
    "    i+=1"
   ]
  },
  {
   "cell_type": "code",
   "execution_count": 38,
   "id": "6dcae567",
   "metadata": {},
   "outputs": [],
   "source": [
    "topology = reconstruct_3d_structure(ans[-1]['X_projection'].astype(np.uint8).reshape(y0,x0), \n",
    "                                    ans[-1]['Y_projection'].astype(np.uint8).reshape(y0,x0),\n",
    "                                    ans[-1]['Z_projection'].astype(np.uint8).reshape(y0,x0))\n",
    "coord, elcon, m = get_voxel_edge_pairs(topology)"
   ]
  },
  {
   "cell_type": "code",
   "execution_count": 45,
   "id": "5f797343",
   "metadata": {},
   "outputs": [
    {
     "data": {
      "image/png": "[encoded data removed]",
      "text/plain": [
       "<Figure size 1300x500 with 1 Axes>"
      ]
     },
     "metadata": {},
     "output_type": "display_data"
    }
   ],
   "source": [
    "draw(coord, elcon,'red')"
   ]
  },
  {
   "cell_type": "code",
   "execution_count": null,
   "id": "c1bb0eb8",
   "metadata": {},
   "outputs": [],
   "source": []
  }
 ],
 "metadata": {
  "kernelspec": {
   "display_name": "Python 3 (ipykernel)",
   "language": "python",
   "name": "python3"
  },
  "language_info": {
   "codemirror_mode": {
    "name": "ipython",
    "version": 3
   },
   "file_extension": ".py",
   "mimetype": "text/x-python",
   "name": "python",
   "nbconvert_exporter": "python",
   "pygments_lexer": "ipython3",
   "version": "3.9.6"
  }
 },
 "nbformat": 4,
 "nbformat_minor": 5
}
