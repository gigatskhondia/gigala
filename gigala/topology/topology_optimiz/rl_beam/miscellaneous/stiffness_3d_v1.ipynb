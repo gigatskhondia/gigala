{
 "cells": [
  {
   "cell_type": "code",
   "execution_count": 1,
   "id": "8b7587c4",
   "metadata": {},
   "outputs": [],
   "source": [
    "from sympy import *"
   ]
  },
  {
   "cell_type": "code",
   "execution_count": 2,
   "id": "443f6fc4",
   "metadata": {},
   "outputs": [],
   "source": [
    "import numpy as np"
   ]
  },
  {
   "cell_type": "code",
   "execution_count": 3,
   "id": "70c566a9",
   "metadata": {},
   "outputs": [],
   "source": [
    "from scipy.integrate import quad_vec, fixed_quad"
   ]
  },
  {
   "cell_type": "code",
   "execution_count": 4,
   "id": "ba4cc508",
   "metadata": {},
   "outputs": [],
   "source": [
    "from numba import njit"
   ]
  },
  {
   "cell_type": "code",
   "execution_count": 5,
   "id": "fce797ae",
   "metadata": {},
   "outputs": [],
   "source": [
    "# !pip3 install numba"
   ]
  },
  {
   "cell_type": "code",
   "execution_count": null,
   "id": "2570a3c5",
   "metadata": {},
   "outputs": [],
   "source": []
  },
  {
   "cell_type": "code",
   "execution_count": 6,
   "id": "47caccfb",
   "metadata": {},
   "outputs": [],
   "source": [
    "def LinearBrickElementVolume(x1,y1,z1,x2,y2,z2,x3,y3,z3,x4,y4,z4,\n",
    "x5,y5,z5,x6,y6,z6,x7,y7,z7,x8,y8,z8):\n",
    "    s,t,u = symbols('s t u')\n",
    "    N1 = (1-s)*(1-t)*(1+u)/8\n",
    "    N2 = (1-s)*(1-t)*(1-u)/8\n",
    "    N3 = (1-s)*(1+t)*(1-u)/8\n",
    "    N4 = (1-s)*(1+t)*(1+u)/8\n",
    "    N5 = (1+s)*(1-t)*(1+u)/8\n",
    "    N6 = (1+s)*(1-t)*(1-u)/8\n",
    "    N7 = (1+s)*(1+t)*(1-u)/8\n",
    "    N8 = (1+s)*(1+t)*(1+u)/8\n",
    "    x = N1*x1 + N2*x2 + N3*x3 + N4*x4 + N5*x5 + N6*x6 + N7*x7 + N8*x8\n",
    "    y = N1*y1 + N2*y2 + N3*y3 + N4*y4 + N5*y5 + N6*y6 + N7*y7 + N8*y8\n",
    "    z = N1*z1 + N2*z2 + N3*z3 + N4*z4 + N5*z5 + N6*z6 + N7*z7 + N8*z8\n",
    "    xs = diff(x,s)\n",
    "    xt = diff(x,t)\n",
    "    xu = diff(x,u)\n",
    "    ys = diff(y,s)\n",
    "    yt = diff(y,t)\n",
    "    yu = diff(y,u)\n",
    "    zs = diff(z,s)\n",
    "    zt = diff(z,t)\n",
    "    zu = diff(z,u)\n",
    "    J = xs*(yt*zu - zt*yu) - ys*(xt*zu - zt*xu) + zs*(xt*yu - yt*xu)\n",
    "    Jnew = simplify(J)\n",
    "    r = integrate(integrate(integrate(Jnew, (u, -1, 1)), (t, -1, 1)), (s, -1, 1))\n",
    "    w = float(r)\n",
    "    return w"
   ]
  },
  {
   "cell_type": "code",
   "execution_count": 7,
   "id": "6625deb4",
   "metadata": {},
   "outputs": [
    {
     "data": {
      "text/plain": [
       "0.4032812500000001"
      ]
     },
     "execution_count": 7,
     "metadata": {},
     "output_type": "execute_result"
    }
   ],
   "source": [
    "LinearBrickElementVolume(0,0,0.025,0,0,0,0,0.25,0,0,0.25,0.0,25,\n",
    "0.5,0,0.025,0.5,0,0,0.5,0.25,0,0.5,0.25)"
   ]
  },
  {
   "cell_type": "code",
   "execution_count": 8,
   "id": "9b0936ce",
   "metadata": {},
   "outputs": [],
   "source": [
    "def LinearBrickElementStiffness(E,NU,x1,y1,z1,x2,y2,z2,x3,y3,z3,x4,y4,z4,\n",
    "x5,y5,z5,x6,y6,z6,x7,y7,z7,x8,y8,z8,u):\n",
    "    s,t,u = symbols('s t u')\n",
    "    N1 = (1-s)*(1-t)*(1+u)/8\n",
    "    N2 = (1-s)*(1-t)*(1-u)/8\n",
    "    N3 = (1-s)*(1+t)*(1-u)/8\n",
    "    N4 = (1-s)*(1+t)*(1+u)/8\n",
    "    N5 = (1+s)*(1-t)*(1+u)/8\n",
    "    N6 = (1+s)*(1-t)*(1-u)/8\n",
    "    N7 = (1+s)*(1+t)*(1-u)/8\n",
    "    N8 = (1+s)*(1+t)*(1+u)/8\n",
    "    x = N1*x1 + N2*x2 + N3*x3 + N4*x4 + N5*x5 + N6*x6 + N7*x7 + N8*x8\n",
    "    y = N1*y1 + N2*y2 + N3*y3 + N4*y4 + N5*y5 + N6*y6 + N7*y7 + N8*y8\n",
    "    z = N1*z1 + N2*z2 + N3*z3 + N4*z4 + N5*z5 + N6*z6 + N7*z7 + N8*z8\n",
    "    xs = diff(x,s)\n",
    "    xt = diff(x,t)\n",
    "    xu = diff(x,u)\n",
    "    ys = diff(y,s)\n",
    "    yt = diff(y,t)\n",
    "    yu = diff(y,u)\n",
    "    zs = diff(z,s)\n",
    "    zt = diff(z,t)\n",
    "    zu = diff(z,u)\n",
    "    J = xs*(yt*zu - zt*yu) - ys*(xt*zu - zt*xu) + zs*(xt*yu - yt*xu)\n",
    "    N1s = diff(N1,s)\n",
    "    N2s = diff(N2,s)\n",
    "    N3s = diff(N3,s)\n",
    "    N4s = diff(N4,s)\n",
    "    N5s = diff(N5,s)\n",
    "    N6s = diff(N6,s)\n",
    "    N7s = diff(N7,s)\n",
    "    N8s = diff(N8,s)\n",
    "    N1t = diff(N1,t)\n",
    "    N2t = diff(N2,t)\n",
    "    N3t = diff(N3,t)\n",
    "    N4t = diff(N4,t)\n",
    "    N5t = diff(N5,t)\n",
    "    N6t = diff(N6,t)\n",
    "    N7t = diff(N7,t)\n",
    "    N8t = diff(N8,t)\n",
    "    N1u = diff(N1,u)\n",
    "    N2u = diff(N2,u)\n",
    "    N3u = diff(N3,u)\n",
    "    N4u = diff(N4,u)\n",
    "    N5u = diff(N5,u)\n",
    "    N6u = diff(N6,u)\n",
    "    N7u = diff(N7,u)\n",
    "    N8u = diff(N8,u)\n",
    "    N1x = N1s*(yt*zu - zt*yu) - ys*(N1t*zu - zt*N1u) + zs*(N1t*yu - yt*N1u)\n",
    "    N2x = N2s*(yt*zu - zt*yu) - ys*(N2t*zu - zt*N2u) + zs*(N2t*yu - yt*N2u)\n",
    "    N3x = N3s*(yt*zu - zt*yu) - ys*(N3t*zu - zt*N3u) + zs*(N3t*yu - yt*N3u)\n",
    "    N4x = N4s*(yt*zu - zt*yu) - ys*(N4t*zu - zt*N4u) + zs*(N4t*yu - yt*N4u)\n",
    "    N5x = N5s*(yt*zu - zt*yu) - ys*(N5t*zu - zt*N5u) + zs*(N5t*yu - yt*N5u)\n",
    "    N6x = N6s*(yt*zu - zt*yu) - ys*(N6t*zu - zt*N6u) + zs*(N6t*yu - yt*N6u)\n",
    "    N7x = N7s*(yt*zu - zt*yu) - ys*(N7t*zu - zt*N7u) + zs*(N7t*yu - yt*N7u)\n",
    "    N8x = N8s*(yt*zu - zt*yu) - ys*(N8t*zu - zt*N8u) + zs*(N8t*yu - yt*N8u)\n",
    "    N1y = xs*(N1t*zu - zt*N1u) - N1s*(xt*zu - zt*xu) + zs*(xt*N1u - N1t*xu)\n",
    "    N2y = xs*(N2t*zu - zt*N2u) - N2s*(xt*zu - zt*xu) + zs*(xt*N2u - N2t*xu)\n",
    "    N3y = xs*(N3t*zu - zt*N3u) - N3s*(xt*zu - zt*xu) + zs*(xt*N3u - N3t*xu)\n",
    "    N4y = xs*(N4t*zu - zt*N4u) - N4s*(xt*zu - zt*xu) + zs*(xt*N4u - N4t*xu)\n",
    "    N5y = xs*(N5t*zu - zt*N5u) - N5s*(xt*zu - zt*xu) + zs*(xt*N5u - N5t*xu)\n",
    "    N6y = xs*(N6t*zu - zt*N6u) - N6s*(xt*zu - zt*xu) + zs*(xt*N6u - N6t*xu)\n",
    "    N7y = xs*(N7t*zu - zt*N7u) - N7s*(xt*zu - zt*xu) + zs*(xt*N7u - N7t*xu)\n",
    "    N8y = xs*(N8t*zu - zt*N8u) - N8s*(xt*zu - zt*xu) + zs*(xt*N8u - N8t*xu)\n",
    "    N1z = xs*(yt*N1u - N1t*yu) - ys*(xt*N1u - N1t*xu) + N1s*(xt*yu - yt*xu)\n",
    "    N2z = xs*(yt*N2u - N2t*yu) - ys*(xt*N2u - N2t*xu) + N2s*(xt*yu - yt*xu)\n",
    "    N3z = xs*(yt*N3u - N3t*yu) - ys*(xt*N3u - N3t*xu) + N3s*(xt*yu - yt*xu)\n",
    "    N4z = xs*(yt*N4u - N4t*yu) - ys*(xt*N4u - N4t*xu) + N4s*(xt*yu - yt*xu)\n",
    "    N5z = xs*(yt*N5u - N5t*yu) - ys*(xt*N5u - N5t*xu) + N5s*(xt*yu - yt*xu)\n",
    "    N6z = xs*(yt*N6u - N6t*yu) - ys*(xt*N6u - N6t*xu) + N6s*(xt*yu - yt*xu)\n",
    "    N7z = xs*(yt*N7u - N7t*yu) - ys*(xt*N7u - N7t*xu) + N7s*(xt*yu - yt*xu)\n",
    "    N8z = xs*(yt*N8u - N8t*yu) - ys*(xt*N8u - N8t*xu) + N8s*(xt*yu - yt*xu)\n",
    "    \n",
    "    B = Matrix([[N1x, N2x, N3x, N4x, N5x, N6x, N7x, N8x, 0, 0, 0, 0, 0, 0, 0, 0, 0, 0, 0, 0, 0, 0, 0, 0 ],\n",
    "        [0, 0, 0, 0, 0, 0, 0, 0, N1y, N2y, N3y, N4y, N5y, N6y, N7y, N8y, 0, 0, 0, 0, 0, 0, 0, 0 ],\n",
    "        [0, 0, 0, 0, 0, 0, 0, 0, 0, 0, 0, 0, 0, 0, 0, 0, N1z, N2z, N3z, N4z, N5z, N6z, N7z, N8z ],\n",
    "        [N1y, N2y, N3y, N4y, N5y, N6y, N7y, N8y, N1x, N2x, N3x, N4x, N5x, N6x, N7x, N8x, 0, 0, 0, 0, 0, 0, 0, 0 ],\n",
    "        [0, 0, 0, 0, 0, 0, 0, 0, N1z, N2z, N3z, N4z, N5z, N6z, N7z, N8z, N1y, N2y, N3y, N4y, N5y, N6y, N7y, N8y ],\n",
    "        [N1z, N2z, N3z, N4z, N5z, N6z, N7z, N8z, 0, 0, 0, 0, 0, 0, 0, 0, N1x, N2x, N3x, N4x, N5x, N6x, N7x, N8x]])\n",
    "    Bnew = simplify(B)\n",
    "    Jnew = simplify(J)\n",
    "    D = (E/((1+NU)*(1-2*NU)))*Matrix([[1-NU, NU, NU, 0, 0, 0 ], \n",
    "                                      [NU, 1-NU, NU, 0, 0, 0] , \n",
    "                                      [NU, NU, 1- NU, 0, 0, 0] ,\n",
    "                                      [0, 0, 0, (1-2*NU)/2, 0, 0 ], \n",
    "                                      [0, 0, 0, 0, (1- 2*NU)/2, 0 ], \n",
    "                                      [0, 0, 0, 0, 0, (1- 2*NU)/2]])\n",
    "    BD = (Bnew).T*D*Bnew/Jnew\n",
    "    \n",
    "    f_np = lambdify((s,t,u),BD,'numpy')\n",
    "    \n",
    "#     @njit(nopython=True)\n",
    "    def BD(s,t,u):\n",
    "        return f_np(s,t,u)\n",
    "   \n",
    "    \n",
    "    c1 = lambda u,t: quad_vec(lambda s: BD(s,t,u), -1, 1,quadrature='trapezoid', epsabs=1e-2, epsrel=1e-1)[0]\n",
    "    c2 = lambda u: quad_vec(lambda t: c1(t,u), -1, 1,quadrature='trapezoid', epsabs=1e-2, epsrel=1e-1)[0]\n",
    "    r = quad_vec(c2, -1, 1,quadrature='trapezoid', epsabs=1e-2, epsrel=1e-1)[0]\n",
    "    \n",
    "#     c1 = lambda u,t: fixed_quad(lambda s: BD(s,t,u), -1, 1, n=24)[0]\n",
    "#     c2 = lambda u: fixed_quad(lambda t: c1(t,u), -1, 1, n=24)[0]\n",
    "#     r = fixed_quad(c2, -1, 1, n=24)[0]\n",
    "    \n",
    "    w = np.float64(r)\n",
    "    return w"
   ]
  },
  {
   "cell_type": "code",
   "execution_count": null,
   "id": "77570e16",
   "metadata": {},
   "outputs": [],
   "source": [
    "LinearBrickElementStiffness(210e6,0.3,0.,0.,0.025,0.,0.,0.,0.,0.25,0.,0.,0.25,0.0,25,\n",
    "0.5,0.,0.025,0.5,0.,0.,0.5,0.25,0.,0.5,0.25,0.025)"
   ]
  },
  {
   "cell_type": "code",
   "execution_count": null,
   "id": "d51a667d",
   "metadata": {},
   "outputs": [],
   "source": [
    "# takes a long time, not practical for my purpose"
   ]
  },
  {
   "cell_type": "code",
   "execution_count": null,
   "id": "2dd99533",
   "metadata": {},
   "outputs": [],
   "source": []
  }
 ],
 "metadata": {
  "kernelspec": {
   "display_name": "Python 3 (ipykernel)",
   "language": "python",
   "name": "python3"
  },
  "language_info": {
   "codemirror_mode": {
    "name": "ipython",
    "version": 3
   },
   "file_extension": ".py",
   "mimetype": "text/x-python",
   "name": "python",
   "nbconvert_exporter": "python",
   "pygments_lexer": "ipython3",
   "version": "3.9.6"
  }
 },
 "nbformat": 4,
 "nbformat_minor": 5
}
