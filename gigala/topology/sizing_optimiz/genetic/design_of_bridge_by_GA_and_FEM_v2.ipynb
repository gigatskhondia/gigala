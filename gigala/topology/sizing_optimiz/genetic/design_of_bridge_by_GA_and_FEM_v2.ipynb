{
 "cells": [
  {
   "cell_type": "code",
   "execution_count": 1,
   "metadata": {},
   "outputs": [],
   "source": [
    "import math\n",
    "import numpy as np\n",
    "from deap import base\n",
    "from deap import creator\n",
    "from deap import tools\n",
    "\n",
    "import random\n",
    "\n",
    "import matplotlib.pyplot as plt\n",
    "import seaborn as sns\n",
    "import sys\n",
    "from scipy.linalg import lu_factor, lu_solve"
   ]
  },
  {
   "cell_type": "code",
   "execution_count": 2,
   "metadata": {},
   "outputs": [],
   "source": [
    "sys.path.append('../../examples/marine/pipelay_vessel_design_optimisation_using_genetic_algorithms/')"
   ]
  },
  {
   "cell_type": "code",
   "execution_count": 3,
   "metadata": {},
   "outputs": [],
   "source": [
    "import elitism"
   ]
  },
  {
   "cell_type": "markdown",
   "metadata": {},
   "source": [
    "### Finite Element Model of the Plane Truss structure"
   ]
  },
  {
   "cell_type": "code",
   "execution_count": 4,
   "metadata": {},
   "outputs": [],
   "source": [
    "def PlaneTrussElementLength(x1,y1,x2,y2):\n",
    "    return math.sqrt((x2-x1)*(x2-x1) + (y2-y1)*(y2-y1))"
   ]
  },
  {
   "cell_type": "code",
   "execution_count": 5,
   "metadata": {},
   "outputs": [],
   "source": [
    "def PlaneTrussElementStiffness(E,A,L,theta):\n",
    "    pi=3.14159265\n",
    "    x = theta*pi/180\n",
    "    C = math.cos(x)\n",
    "    S = math.sin(x)\n",
    "    return E*A/L*np.array([[C*C, C*S, -C*C, -C*S],[C*S, S*S, -C*S, -S*S],\n",
    "                           [-C*C, -C*S, C*C, C*S],[-C*S, -S*S, C*S, S*S]]) "
   ]
  },
  {
   "cell_type": "code",
   "execution_count": 6,
   "metadata": {},
   "outputs": [],
   "source": [
    "def PlaneTrussAssemble(K,k,i,j):\n",
    "    # K - np.array\n",
    "    # k - np.array\n",
    "    K[2*i,2*i] = K[2*i,2*i] + k[0,0]\n",
    "    K[2*i,2*i+1] = K[2*i,2*i+1] + k[0,1] \n",
    "    K[2*i,2*j] = K[2*i,2*j] + k[0,2] \n",
    "    K[2*i,2*j+1] = K[2*i,2*j+1] + k[0,3]\n",
    "    K[2*i+1,2*i] = K[2*i+1,2*i] + k[1,0]\n",
    "    K[2*i+1,2*i+1] = K[2*i+1,2*i+1] + k[1,1] \n",
    "    K[2*i+1,2*j] = K[2*i+1,2*j] + k[1,2] \n",
    "    K[2*i+1,2*j+1] = K[2*i+1,2*j+1] + k[1,3] \n",
    "    K[2*j,2*i] = K[2*j,2*i] + k[2,0] \n",
    "    K[2*j,2*i+1] = K[2*j,2*i+1] + k[2,1]\n",
    "    K[2*j,2*j] = K[2*j,2*j] + k[2,2]\n",
    "    K[2*j,2*j+1] = K[2*j,2*j+1] + k[2,3] \n",
    "    K[2*j+1,2*i] = K[2*j+1,2*i] + k[3,0] \n",
    "    K[2*j+1,2*i+1] = K[2*j+1,2*i+1] + k[3,1]\n",
    "    K[2*j+1,2*j] = K[2*j+1,2*j] + k[3,2] \n",
    "    K[2*j+1,2*j+1] = K[2*j+1,2*j+1] + k[3,3]\n",
    "    \n",
    "    return K "
   ]
  },
  {
   "cell_type": "code",
   "execution_count": 7,
   "metadata": {},
   "outputs": [],
   "source": [
    "def PlaneTrussElementForce(E,A,L,theta,u):\n",
    "    pi=3.14159265\n",
    "    x = theta* pi/180\n",
    "    C = math.cos(x)\n",
    "    S = math.sin(x)\n",
    "    return E*A/L*np.dot(np.array([-C, -S, C, S]),u)"
   ]
  },
  {
   "cell_type": "code",
   "execution_count": 8,
   "metadata": {},
   "outputs": [],
   "source": [
    "def PlaneTrussElementStress(E,L,theta,u):\n",
    "    pi=3.14159265\n",
    "    x = theta * pi/180\n",
    "    C = math.cos(x)\n",
    "    S = math.sin(x)\n",
    "    return E/L*np.dot(np.array([-C, -S, C, S]),u)"
   ]
  },
  {
   "cell_type": "code",
   "execution_count": 9,
   "metadata": {},
   "outputs": [],
   "source": [
    "def FEA_u(coord, elcon, bc_node, bc_val, global_force,  A=1e-4, E=210e6):\n",
    "    K=np.zeros(shape=(2*np.max(elcon)+2,2*np.max(elcon)+2))\n",
    "    for el in elcon:\n",
    "        L=PlaneTrussElementLength(coord[el[0]][0],coord[el[0]][1],coord[el[1]][0],coord[el[1]][1])\n",
    "        theta=math.atan((coord[el[1]][1]-coord[el[0]][1])/(coord[el[1]][0]-coord[el[0]][0]+1e-13))*180/math.pi\n",
    "        k=PlaneTrussElementStiffness(E,A,L,theta)\n",
    "        K=PlaneTrussAssemble(K,k,el[0],el[1])     \n",
    "    \n",
    "    F = global_force\n",
    "    \n",
    "    \n",
    "    # https://github.com/CALFEM/calfem-matlab/blob/master/fem/solveq.m\n",
    "    \n",
    "    bc=np.array([bc_node, \n",
    "                bc_val]).T\n",
    "    nd, nd=K.shape\n",
    "    fdof=np.array([i for i in range(nd)]).T\n",
    "    d=np.zeros(shape=(len(fdof),))\n",
    "    Q=np.zeros(shape=(len(fdof),))\n",
    "\n",
    "    pdof=bc[:,0].astype(int)\n",
    "    dp=bc[:,1]\n",
    "    fdof=np.delete(fdof, pdof, 0)\n",
    "\n",
    "    s=np.linalg.lstsq(K[fdof,:][:,fdof],\n",
    "                      (F[fdof].T-np.dot(K[fdof,:][:,pdof],dp.T)).T, rcond=None)[0] \n",
    "    d[pdof]=dp\n",
    "    d[fdof]=s.reshape(-1,)\n",
    "    \n",
    "#     Q=np.dot(K,d).T-F \n",
    "    \n",
    "    return d"
   ]
  },
  {
   "cell_type": "code",
   "execution_count": 10,
   "metadata": {},
   "outputs": [],
   "source": [
    "# 5 The Plane Truss Element - verification \n",
    "d=FEA_u(np.array([0,0,\n",
    "                  4,0,\n",
    "                  2,3]).reshape(3,2), \n",
    "      elcon=np.array([[0, 1],\n",
    "                      [0, 2],\n",
    "                      [1, 2]]),\n",
    "      bc_node = [0, 1, 3],\n",
    "      bc_val = [0., 0., 0.],\n",
    "      global_force = np.array([0,0,\n",
    "                               0,0,\n",
    "                               5,-10]),\n",
    "      A=1e-4, \n",
    "      E=210e6)"
   ]
  },
  {
   "cell_type": "code",
   "execution_count": 11,
   "metadata": {},
   "outputs": [
    {
     "data": {
      "text/plain": [
       "array([ 0.        ,  0.        ,  0.00111111,  0.        ,  0.00195056,\n",
       "       -0.00161037])"
      ]
     },
     "execution_count": 11,
     "metadata": {},
     "output_type": "execute_result"
    }
   ],
   "source": [
    "d"
   ]
  },
  {
   "cell_type": "markdown",
   "metadata": {},
   "source": [
    "### Initial displacement "
   ]
  },
  {
   "cell_type": "code",
   "execution_count": 12,
   "metadata": {},
   "outputs": [],
   "source": [
    "coord=np.array([0.0,0.0,\n",
    "                  2.0,3.0,\n",
    "                  2.0,0.0,\n",
    "                  5.0,3.0,\n",
    "                  7.0,0.0,\n",
    "                  9.0,3.0,\n",
    "                  12.0,3.0,\n",
    "                  12.0,0.0,\n",
    "                  14.0,0.0]).reshape(9,2)"
   ]
  },
  {
   "cell_type": "code",
   "execution_count": 13,
   "metadata": {},
   "outputs": [],
   "source": [
    "displ = FEA_u(coord.reshape(9,2),\n",
    "              elcon=np.array([[0, 1],[0, 2],[1, 2],[1, 3],[2, 3],\n",
    "                                                    [2, 4],[3, 4],[3, 5],[4, 5],[4, 7],\n",
    "                                                    [5, 7],[5, 6],[6, 7],[6, 8],[7, 8]]),\n",
    "                                                    bc_node=[0,1,\n",
    "                                                             2,3,\n",
    "                                                             12,13,\n",
    "                                                             16,17],\n",
    "                                                    bc_val=[0,0,\n",
    "                                                            0,0,\n",
    "                                                            0,0,\n",
    "                                                            0,0],\n",
    "                                                    global_force = np.array([0,0,\n",
    "                                                                    0,0,\n",
    "                                                                    0,0,\n",
    "                                                                    0,0,\n",
    "                                                                    0,-10,\n",
    "                                                                    0,0,\n",
    "                                                                    0,0,\n",
    "                                                                    0,0,\n",
    "                                                                    0,0]),\n",
    "                                                    A=1e-4, E=210e6)"
   ]
  },
  {
   "cell_type": "code",
   "execution_count": 14,
   "metadata": {},
   "outputs": [
    {
     "data": {
      "text/plain": [
       "-0.005108382068326751"
      ]
     },
     "execution_count": 14,
     "metadata": {},
     "output_type": "execute_result"
    }
   ],
   "source": [
    "displ[9]"
   ]
  },
  {
   "cell_type": "markdown",
   "metadata": {},
   "source": [
    "### Genetic Algorithm"
   ]
  },
  {
   "cell_type": "code",
   "execution_count": 15,
   "metadata": {},
   "outputs": [],
   "source": [
    "BOUNDS_LOW =  [0, 2, 5, 5]\n",
    "BOUNDS_HIGH = [5, 9, 12, 14]"
   ]
  },
  {
   "cell_type": "code",
   "execution_count": 16,
   "metadata": {},
   "outputs": [],
   "source": [
    "NUM_OF_PARAMS = len(BOUNDS_HIGH)"
   ]
  },
  {
   "cell_type": "code",
   "execution_count": 17,
   "metadata": {},
   "outputs": [],
   "source": [
    "# Genetic Algorithm constants:\n",
    "POPULATION_SIZE = 250\n",
    "P_CROSSOVER = 0.9  # probability for crossover\n",
    "P_MUTATION = 0.5   # probability for mutating an individual\n",
    "MAX_GENERATIONS = 50\n",
    "HALL_OF_FAME_SIZE = 5\n",
    "CROWDING_FACTOR = 20.0  # crowding factor for crossover and mutation\n",
    "\n",
    "PENALTY_VALUE = 10.0    # fixed penalty for violating a constraint\n",
    "\n",
    "# set the random seed:\n",
    "RANDOM_SEED = 42\n",
    "random.seed(RANDOM_SEED)\n",
    "\n",
    "toolbox = base.Toolbox()"
   ]
  },
  {
   "cell_type": "code",
   "execution_count": 18,
   "metadata": {},
   "outputs": [],
   "source": [
    "# define a single objective, maximize fitness strategy:\n",
    "creator.create(\"FitnessMax\", base.Fitness, weights=(1.0,))\n",
    "\n",
    "# create the Individual class based on list:\n",
    "creator.create(\"Individual\", list, fitness=creator.FitnessMax)\n",
    "\n",
    "\n",
    "# define the hyperparameter attributes individually:\n",
    "for i in range(NUM_OF_PARAMS):\n",
    "    # \"hyperparameter_0\", \"hyperparameter_1\", ...\n",
    "    toolbox.register(\"hyperparameter_\" + str(i),\n",
    "                     random.uniform,\n",
    "                     BOUNDS_LOW[i],\n",
    "                     BOUNDS_HIGH[i])"
   ]
  },
  {
   "cell_type": "code",
   "execution_count": 19,
   "metadata": {},
   "outputs": [],
   "source": [
    "# create a tuple containing an attribute generator for each param searched:\n",
    "hyperparameters = ()\n",
    "\n",
    "for i in range(NUM_OF_PARAMS):\n",
    "    hyperparameters = hyperparameters + (toolbox.__getattribute__(\"hyperparameter_\" + str(i)),)\n",
    "\n",
    "# create the individual operator to fill up an Individual instance:\n",
    "toolbox.register(\"individualCreator\",\n",
    "                 tools.initCycle,\n",
    "                 creator.Individual,\n",
    "                 hyperparameters,\n",
    "                 n=1)"
   ]
  },
  {
   "cell_type": "code",
   "execution_count": 20,
   "metadata": {},
   "outputs": [],
   "source": [
    "# create the population operator to generate a list of individuals:\n",
    "toolbox.register(\"populationCreator\", tools.initRepeat, list, toolbox.individualCreator)"
   ]
  },
  {
   "cell_type": "code",
   "execution_count": 21,
   "metadata": {},
   "outputs": [],
   "source": [
    "# fitness calculation\n",
    "def femStatic(individual):\n",
    "    x1=individual[0]\n",
    "    x2=individual[1]\n",
    "    x3=individual[2]\n",
    "    x4=individual[3]\n",
    "\n",
    "    \n",
    "    coord=np.array([0.0,0.0,\n",
    "                  2.0,3.0,\n",
    "                  x1,0.0,\n",
    "                  x2,3.0,\n",
    "                  7.0,0.0,\n",
    "                  x3,3.0,\n",
    "                  12,3.0,\n",
    "                  x4,0.0,\n",
    "                  14.0,0.0]).reshape(9,2)\n",
    "    \n",
    "    displ = FEA_u(coord, \n",
    "              elcon=np.array([[0, 1],[0, 2],[1, 2],[1, 3],[2, 3],\n",
    "                                                    [2, 4],[3, 4],[3, 5],[4, 5],[4, 7],\n",
    "                                                    [5, 7],[5, 6],[6, 7],[6, 8],[7, 8]]),\n",
    "                                                    bc_node=[0,1,\n",
    "                                                             2,3,\n",
    "                                                             12,13,\n",
    "                                                             16,17],\n",
    "                                                    bc_val=[0,0,\n",
    "                                                            0,0,\n",
    "                                                            0,0,\n",
    "                                                            0,0],\n",
    "                                                    global_force = np.array([0,0,\n",
    "                                                                    0,0,\n",
    "                                                                    0,0,\n",
    "                                                                    0,0,\n",
    "                                                                    0,-10,\n",
    "                                                                    0,0,\n",
    "                                                                    0,0,\n",
    "                                                                    0,0,\n",
    "                                                                    0,0]),\n",
    "                                                    A=1e-4, E=210e6)\n",
    "    return displ[9],"
   ]
  },
  {
   "cell_type": "code",
   "execution_count": 22,
   "metadata": {},
   "outputs": [],
   "source": [
    "toolbox.register(\"evaluate\", femStatic)\n",
    "\n",
    "# genetic operators:\n",
    "toolbox.register(\"select\", tools.selTournament, tournsize=2)\n",
    "toolbox.register(\"mate\",\n",
    "                 tools.cxSimulatedBinaryBounded,\n",
    "                 low=BOUNDS_LOW,\n",
    "                 up=BOUNDS_HIGH,\n",
    "                 eta=CROWDING_FACTOR)\n",
    "\n",
    "toolbox.register(\"mutate\",\n",
    "                 tools.mutPolynomialBounded,\n",
    "                 low=BOUNDS_LOW,\n",
    "                 up=BOUNDS_HIGH,\n",
    "                 eta=CROWDING_FACTOR,\n",
    "                 indpb=1.0 / NUM_OF_PARAMS)\n"
   ]
  },
  {
   "cell_type": "code",
   "execution_count": 23,
   "metadata": {},
   "outputs": [],
   "source": [
    "# Genetic Algorithm flow:\n",
    "def main():\n",
    "\n",
    "    # create initial population (generation 0):\n",
    "    population = toolbox.populationCreator(n=POPULATION_SIZE)\n",
    "\n",
    "    # prepare the statistics object:\n",
    "    stats = tools.Statistics(lambda ind: ind.fitness.values)\n",
    "    stats.register(\"max\", np.max)\n",
    "    stats.register(\"avg\", np.mean)\n",
    "\n",
    "    # define the hall-of-fame object:\n",
    "    hof = tools.HallOfFame(HALL_OF_FAME_SIZE)\n",
    "\n",
    "    # perform the Genetic Algorithm flow with hof feature added:\n",
    "    population, logbook = elitism.eaSimpleWithElitism(population,\n",
    "                                                      toolbox,\n",
    "                                                      cxpb=P_CROSSOVER,\n",
    "                                                      mutpb=P_MUTATION,\n",
    "                                                      ngen=MAX_GENERATIONS,\n",
    "                                                      stats=stats,\n",
    "                                                      halloffame=hof,\n",
    "                                                      verbose=True)\n",
    "\n",
    "\n",
    "    # print info for best solution found:\n",
    "    best = hof.items[0]\n",
    "    print(\"-- Best Individual = \", best)\n",
    "    print(\"-- Best Fitness = \", best.fitness.values[0])\n",
    "\n",
    "    print()\n",
    "    print(\"Double check: \")\n",
    "    \n",
    "    \n",
    "    x1 = best[0]  \n",
    "    x2 = best[1]  \n",
    "    x3 = best[2]  \n",
    "    x4 = best[3]  \n",
    "\n",
    "    \n",
    "    g_coord=np.array([0.0,0.0,\n",
    "                  2.0,3.0,\n",
    "                  x1,0.0,\n",
    "                  x2,3.0,\n",
    "                  7.0,0.0,\n",
    "                  x3,3.0,\n",
    "                  12,3.0,\n",
    "                  x4,0.0,\n",
    "                  14.0,0.0]).reshape(9,2)\n",
    "    \n",
    "\n",
    "\n",
    "    displ = FEA_u(g_coord, elcon=np.array([[0, 1],[0, 2],[1, 2],[1, 3],[2, 3],\n",
    "                                                    [2, 4],[3, 4],[3, 5],[4, 5],[4, 7],\n",
    "                                                    [5, 7],[5, 6],[6, 7],[6, 8],[7, 8]]),\n",
    "                                                    bc_node=[0,1,\n",
    "                                                             2,3,\n",
    "                                                             12,13,\n",
    "                                                             16,17],\n",
    "                                                    bc_val=[0,0,\n",
    "                                                            0,0,\n",
    "                                                            0,0,\n",
    "                                                            0,0],\n",
    "                                                    global_force = np.array([0,0,\n",
    "                                                                    0,0,\n",
    "                                                                    0,0,\n",
    "                                                                    0,0,\n",
    "                                                                    0,-10,\n",
    "                                                                    0,0,\n",
    "                                                                    0,0,\n",
    "                                                                    0,0,\n",
    "                                                                    0,0]),\n",
    "                                                    A=1e-4, E=210e6)\n",
    "\n",
    "\n",
    "    print(\"displ\", displ[9], )\n",
    "    \n",
    "    # extract statistics:\n",
    "    maxFitnessValues, meanFitnessValues = logbook.select(\"max\", \"avg\")\n",
    "\n",
    "    # plot statistics:\n",
    "    sns.set_style(\"whitegrid\")\n",
    "    plt.plot(maxFitnessValues, color='red')\n",
    "    plt.plot(meanFitnessValues, color='green')\n",
    "    plt.xlabel('Generation')\n",
    "    plt.ylabel('Max/ Average Fitness')\n",
    "    plt.title('Max and Average fitness over Generations')\n",
    "    plt.savefig(\"gen.png\")\n",
    "    plt.show()\n",
    "    return g_coord"
   ]
  },
  {
   "cell_type": "code",
   "execution_count": 24,
   "metadata": {},
   "outputs": [
    {
     "name": "stdout",
     "output_type": "stream",
     "text": [
      "gen\tnevals\tmax        \tavg        \n",
      "0  \t250   \t-0.00420027\t-0.00771135\n",
      "1  \t232   \t-0.00414543\t-0.00630386\n",
      "2  \t238   \t-0.00413287\t-0.0055875 \n",
      "3  \t236   \t-0.0040402 \t-0.00500441\n",
      "4  \t230   \t-0.0040402 \t-0.00464433\n",
      "5  \t235   \t-0.00404002\t-0.0043877 \n",
      "6  \t226   \t-0.0040151 \t-0.00426647\n",
      "7  \t231   \t-0.00401484\t-0.00420966\n",
      "8  \t229   \t-0.00400305\t-0.00415254\n",
      "9  \t230   \t-0.00400305\t-0.00411231\n",
      "10 \t229   \t-0.00400305\t-0.00408521\n",
      "11 \t234   \t-0.00400302\t-0.00407603\n",
      "12 \t231   \t-0.00400132\t-0.00406006\n",
      "13 \t232   \t-0.0040013 \t-0.00405226\n",
      "14 \t225   \t-0.0040013 \t-0.00403818\n",
      "15 \t236   \t-0.00400127\t-0.00403641\n",
      "16 \t233   \t-0.00400041\t-0.00403187\n",
      "17 \t235   \t-0.00400039\t-0.00403143\n",
      "18 \t238   \t-0.00400037\t-0.00403413\n",
      "19 \t240   \t-0.00400037\t-0.00403015\n",
      "20 \t236   \t-0.00400034\t-0.00403209\n",
      "21 \t236   \t-0.00400028\t-0.00402392\n",
      "22 \t222   \t-0.00400028\t-0.0040184 \n",
      "23 \t236   \t-0.00400028\t-0.00402475\n",
      "24 \t238   \t-0.00400025\t-0.00401621\n",
      "25 \t235   \t-0.00400023\t-0.00401654\n",
      "26 \t240   \t-0.00400022\t-0.00402126\n",
      "27 \t233   \t-0.00400022\t-0.0040204 \n",
      "28 \t239   \t-0.00400021\t-0.00402246\n",
      "29 \t231   \t-0.00400021\t-0.00402763\n",
      "30 \t240   \t-0.00400021\t-0.00402134\n",
      "31 \t233   \t-0.00400021\t-0.00402333\n",
      "32 \t233   \t-0.00400021\t-0.00403055\n",
      "33 \t231   \t-0.00400021\t-0.00402647\n",
      "34 \t233   \t-0.0040002 \t-0.00402361\n",
      "35 \t233   \t-0.0040002 \t-0.00401787\n",
      "36 \t225   \t-0.0040002 \t-0.00402217\n",
      "37 \t233   \t-0.0040002 \t-0.00401468\n",
      "38 \t229   \t-0.0040002 \t-0.00402315\n",
      "39 \t218   \t-0.0040002 \t-0.00401646\n",
      "40 \t233   \t-0.0040002 \t-0.00402003\n",
      "41 \t238   \t-0.0040002 \t-0.00401947\n",
      "42 \t235   \t-0.0040002 \t-0.00402353\n",
      "43 \t235   \t-0.0040002 \t-0.004021  \n",
      "44 \t231   \t-0.0040002 \t-0.0040139 \n",
      "45 \t228   \t-0.0040002 \t-0.00402524\n",
      "46 \t234   \t-0.0040002 \t-0.00401408\n",
      "47 \t235   \t-0.0040002 \t-0.00402076\n",
      "48 \t235   \t-0.0040002 \t-0.00402998\n",
      "49 \t233   \t-0.0040002 \t-0.00403043\n",
      "50 \t222   \t-0.0040002 \t-0.0040192 \n",
      "-- Best Individual =  [3.8926276333923404, 5.1039423186034245, 8.892053207361334, 10.10326824971241]\n",
      "-- Best Fitness =  -0.004000199879371854\n",
      "\n",
      "Double check: \n",
      "displ -0.004000199879371854\n"
     ]
    },
    {
     "data": {
      "image/png": "[encoded data removed]",
      "text/plain": [
       "<Figure size 432x288 with 1 Axes>"
      ]
     },
     "metadata": {
      "needs_background": "light"
     },
     "output_type": "display_data"
    }
   ],
   "source": [
    "g_coord=main()"
   ]
  },
  {
   "cell_type": "code",
   "execution_count": 25,
   "metadata": {},
   "outputs": [],
   "source": [
    "def draw(coord,color,elcon):\n",
    "    coord=coord.reshape(np.max(elcon)+1,2)\n",
    "    plt.figure(figsize=(13,5))\n",
    "    for item in elcon:\n",
    "        plt.plot([coord[item[0]][0],coord[item[1]][0]],\n",
    "                 [coord[item[0]][1],coord[item[1]][1]],color=color)\n",
    "        \n",
    "    plt.show() "
   ]
  },
  {
   "cell_type": "markdown",
   "metadata": {},
   "source": [
    "### Initial Design "
   ]
  },
  {
   "cell_type": "code",
   "execution_count": 26,
   "metadata": {},
   "outputs": [
    {
     "data": {
      "image/png": "[encoded data removed]",
      "text/plain": [
       "<Figure size 936x360 with 1 Axes>"
      ]
     },
     "metadata": {
      "needs_background": "light"
     },
     "output_type": "display_data"
    }
   ],
   "source": [
    "draw(coord,color=\"blue\",elcon=np.array([[0, 1],[0, 2],[1, 2],[1, 3],[2, 3],\n",
    "                                                    [2, 4],[3, 4],[3, 5],[4, 5],[4, 7],\n",
    "                                                    [5, 7],[5, 6],[6, 7],[6, 8],[7, 8]]))"
   ]
  },
  {
   "cell_type": "markdown",
   "metadata": {},
   "source": [
    "### Final Design"
   ]
  },
  {
   "cell_type": "code",
   "execution_count": 27,
   "metadata": {},
   "outputs": [
    {
     "data": {
      "image/png": "[encoded data removed]",
      "text/plain": [
       "<Figure size 936x360 with 1 Axes>"
      ]
     },
     "metadata": {
      "needs_background": "light"
     },
     "output_type": "display_data"
    }
   ],
   "source": [
    "draw(g_coord,color=\"blue\",elcon=np.array([[0, 1],[0, 2],[1, 2],[1, 3],[2, 3],\n",
    "                                                    [2, 4],[3, 4],[3, 5],[4, 5],[4, 7],\n",
    "                                                    [5, 7],[5, 6],[6, 7],[6, 8],[7, 8]]))"
   ]
  },
  {
   "cell_type": "code",
   "execution_count": 28,
   "metadata": {},
   "outputs": [
    {
     "data": {
      "text/plain": [
       "array([[ 0.        ,  0.        ],\n",
       "       [ 2.        ,  3.        ],\n",
       "       [ 3.89262763,  0.        ],\n",
       "       [ 5.10394232,  3.        ],\n",
       "       [ 7.        ,  0.        ],\n",
       "       [ 8.89205321,  3.        ],\n",
       "       [12.        ,  3.        ],\n",
       "       [10.10326825,  0.        ],\n",
       "       [14.        ,  0.        ]])"
      ]
     },
     "execution_count": 28,
     "metadata": {},
     "output_type": "execute_result"
    }
   ],
   "source": [
    "g_coord"
   ]
  },
  {
   "cell_type": "code",
   "execution_count": null,
   "metadata": {},
   "outputs": [],
   "source": []
  }
 ],
 "metadata": {
  "kernelspec": {
   "display_name": "Python 3",
   "language": "python",
   "name": "python3"
  },
  "language_info": {
   "codemirror_mode": {
    "name": "ipython",
    "version": 3
   },
   "file_extension": ".py",
   "mimetype": "text/x-python",
   "name": "python",
   "nbconvert_exporter": "python",
   "pygments_lexer": "ipython3",
   "version": "3.7.7"
  }
 },
 "nbformat": 4,
 "nbformat_minor": 4
}
